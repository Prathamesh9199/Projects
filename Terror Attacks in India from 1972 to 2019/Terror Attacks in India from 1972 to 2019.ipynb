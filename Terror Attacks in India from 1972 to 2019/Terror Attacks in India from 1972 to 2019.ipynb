{
 "cells": [
  {
   "cell_type": "markdown",
   "id": "428f4498",
   "metadata": {},
   "source": [
    "# Study of Terror Attacks in India from 1972 to 2019"
   ]
  },
  {
   "cell_type": "markdown",
   "id": "b83f8977",
   "metadata": {},
   "source": [
    "### Database: Global Terrorism Database\n",
    "### Download URL: <a href=\"https://www.start.umd.edu/gtd/\">Global Terrorism Database</a>"
   ]
  },
  {
   "cell_type": "markdown",
   "id": "1611e70b",
   "metadata": {},
   "source": [
    "##### <u>What is a Terrorist Attack ?</u>\n",
    "* <b>A terrorist attack</b> is the threatened or actual use of illegal force and violence by\n",
    "    a non-state actor to attain a political, economic, religious, or social goal through fear, coercion,\n",
    "    or intimidation. <br>\n",
    "\n",
    "Reference   : GTD (Global Terrorism Database) Codebook <br>\n",
    "Download URL: <a href=\"https://www.start.umd.edu/gtd/downloads/Codebook.pdf\">GTD Codebook</a>"
   ]
  },
  {
   "cell_type": "markdown",
   "id": "7da103e2",
   "metadata": {},
   "source": [
    "#### <u>About Database :</u>\n",
    "* Name: Global Terrorism Database\n",
    "* Number of Records: 201183 (rows)\n",
    "* Number of Features: 135 (colunms)\n",
    "* Features used for this study:\n",
    "    - <b>iyear</b>:\n",
    "        - This field contains the year in which the incident occurred.\n",
    "    - <b>imonth</b>:\n",
    "        - This field contains the number of the month in which the incident occurred.\n",
    "    - <b>iday</b>:\n",
    "        - This field contains the numeric day of the month on which the incident occurred.\n",
    "    - <b>country_txt</b>:\n",
    "        - This field identifies the country or location where the incident occurred.\n",
    "    - <b>provstate</b>:\n",
    "        - This variable records the name (at the time of event) of the 1st order subnational administrative region in which the event occurs.        \n",
    "    - <b>attacktype1_txt</b>:\n",
    "        - This field captures the general method of attack and often reflects the broad class of tactics used.\n",
    "    - <b>targtype1_txt</b>:\n",
    "        - The target/victim type field captures the general type of target/victim.\n",
    "    - <b>weaptype1_txt</b>:\n",
    "        -  This field records the general type of weapon used in the incident.\n",
    "    - <b>nwound</b>:\n",
    "        -  This field records the number of confirmed non-fatal injuries to both perpetrators and victims.\n",
    "    - <b>nkill</b>:\n",
    "        - This field stores the number of total confirmed fatalities for the incident. The number includes all victims and attackers who died as a direct result of the incident. \n",
    "    \n",
    "    \n",
    "\n",
    "<b>Note:</b><br>\n",
    "    - This data is True on the Time of Downloading Database at Saturday 05-June-2021 9:52am IST (Indian Standard Time) <br>\n",
    "    - All information about 'Features used for this study' is taken from GTD Codebook <a href=\"https://www.start.umd.edu/gtd/downloads/Codebook.pdf\">(click here to Download)</a>"
   ]
  },
  {
   "cell_type": "markdown",
   "id": "196e53da",
   "metadata": {},
   "source": [
    "#### <u>Start of Study</u>"
   ]
  },
  {
   "cell_type": "code",
   "execution_count": null,
   "id": "835c3709",
   "metadata": {},
   "outputs": [],
   "source": [
    "%config Completer.use_jedi = False"
   ]
  },
  {
   "cell_type": "code",
   "execution_count": null,
   "id": "3e8ba68b",
   "metadata": {},
   "outputs": [],
   "source": [
    "# Import Libraries\n",
    "\n",
    "import pandas as pd\n",
    "\n",
    "import matplotlib.pyplot as plt\n",
    "import seaborn as sns\n",
    "\n",
    "import json\n",
    "\n",
    "import plotly.express as px"
   ]
  },
  {
   "cell_type": "code",
   "execution_count": null,
   "id": "d8d02ec3",
   "metadata": {},
   "outputs": [],
   "source": [
    "# Load Dataset\n",
    "\n",
    "rawData = pd.read_csv('Dataset/globalterrorismdb.csv')\n",
    "print(rawData.shape)\n",
    "rawData.head()"
   ]
  },
  {
   "cell_type": "code",
   "execution_count": null,
   "id": "854d885a",
   "metadata": {},
   "outputs": [],
   "source": [
    "# All Columns and Dataset related to India\n",
    "\n",
    "print(list(rawData.columns))\n",
    "print(rawData[rawData['country_txt'] == 'India'].shape)"
   ]
  },
  {
   "cell_type": "markdown",
   "id": "473cd389",
   "metadata": {},
   "source": [
    "##### <u>Observation:</u>\n",
    "* We have too many(135) columns, we are not going to use each and every columns,\n",
    "\n",
    "##### <u>Action:</u>\n",
    "* After studying the <b>GTD Codebook</b> mentioned above, we choose some columns for our study, they are as follows\n",
    "* Columns used for this study: <br>\n",
    "    year, <br>\n",
    "    month, <br>\n",
    "    day, <br>\n",
    "    country_txt (country name), <br>\n",
    "    provstate (state names), <br>\n",
    "    attacktype1_txt(Type of Attack), <br>\n",
    "    targtype1_txt (type of target), <br>\n",
    "    weaptype1_txt (type of weapon used), <br>\n",
    "    nwound (injuries), <br>\n",
    "    nkill (casualties) <br>"
   ]
  },
  {
   "cell_type": "code",
   "execution_count": null,
   "id": "70b72042",
   "metadata": {},
   "outputs": [],
   "source": [
    "# Extracting Dataset w.r.t India and above mentioned Features\n",
    "\n",
    "finalData = rawData[rawData['country_txt'] == 'India'][['iyear', 'imonth', 'iday', 'provstate', 'attacktype1_txt', 'targtype1_txt', 'weaptype1_txt', 'nwound', 'nkill']]"
   ]
  },
  {
   "cell_type": "code",
   "execution_count": null,
   "id": "948aacdb",
   "metadata": {},
   "outputs": [],
   "source": [
    "# For Kaggle\n",
    "\n",
    "finalData.to_csv('Dataset/Extracted_Data_of_India.csv')"
   ]
  },
  {
   "cell_type": "code",
   "execution_count": null,
   "id": "aa91f4e1",
   "metadata": {},
   "outputs": [],
   "source": [
    "finalData.head()"
   ]
  },
  {
   "cell_type": "markdown",
   "id": "ba70e78f",
   "metadata": {},
   "source": [
    "##### <u>Observation: </u>\n",
    "* It's pretty difficult to understand what a column actually represents.\n",
    "\n",
    "##### <u>Action:</u>\n",
    "* Rename columns in a meaningful way so they represent what data they hold."
   ]
  },
  {
   "cell_type": "code",
   "execution_count": null,
   "id": "3e6a9399",
   "metadata": {},
   "outputs": [],
   "source": [
    "# rename columns\n",
    "\n",
    "finalData.columns = ['Year', 'Month', 'Day', 'State_UT', 'Type_of_Attack', 'Type_of_Target', 'Type_of_Weapon', 'Injuries', 'Casualties']\n",
    "finalData.head()"
   ]
  },
  {
   "cell_type": "markdown",
   "id": "eb07b9f2",
   "metadata": {},
   "source": [
    "##### <u>Observation:</u>\n",
    "* We have extracted dataset according to our need with the help of columns we mentioned above.\n",
    "* We have renamed our columns for ease of understanding."
   ]
  },
  {
   "cell_type": "code",
   "execution_count": null,
   "id": "be0e43cb",
   "metadata": {},
   "outputs": [],
   "source": [
    "# All Column names, Total number of Records and Columns \n",
    "\n",
    "print('Columns: ', finalData.columns)\n",
    "print('[Records, Features]: ',[finalData.shape[0], finalData.shape[1]])"
   ]
  },
  {
   "cell_type": "markdown",
   "id": "250ffa60",
   "metadata": {},
   "source": [
    "##### <u>Observation:</u>\n",
    "* Our updated dataset now has <b>9 Features & 13477 Records</b>"
   ]
  },
  {
   "cell_type": "code",
   "execution_count": null,
   "id": "5475ca0d",
   "metadata": {},
   "outputs": [],
   "source": [
    "# Data Types of Features in Dataframe\n",
    "\n",
    "print('Data Types:')\n",
    "finalData.dtypes"
   ]
  },
  {
   "cell_type": "markdown",
   "id": "1e75ba0a",
   "metadata": {},
   "source": [
    "##### <u>Observation:</u>\n",
    "* We have 3 columns in int64 datatype & 2 columns in float64 Datatype."
   ]
  },
  {
   "cell_type": "code",
   "execution_count": null,
   "id": "065c89a6",
   "metadata": {},
   "outputs": [],
   "source": [
    "# Heatmap to check NA/NAN Values\n",
    "\n",
    "plt.figure(figsize=(10, 7))\n",
    "\n",
    "plt.title('Heatmap to check NA/NAN Values before DropNA')\n",
    "sns.heatmap(data=finalData[['Year', 'Month', 'Day', 'Casualties', 'Injuries']].isna(), cmap='Greens_r')\n",
    "\n",
    "plt.savefig('Images/Heatmap-to-check-NA-NAN-Values-before-DropNA.jpg', dpi=300)\n",
    "plt.show()"
   ]
  },
  {
   "cell_type": "markdown",
   "id": "a436ecfa",
   "metadata": {},
   "source": [
    "##### <u>Observation:</u>\n",
    "* We can see we have some NA Values in Casualties & Injuries.\n",
    "* As Casualties & Injuries are crucial columns for our dataset, replacing NA with 0, Mean or any with any other value will affect our dataset which we don't want.\n",
    "\n",
    "\n",
    "##### <u>Action:</u>\n",
    "* Drop records with NA Values."
   ]
  },
  {
   "cell_type": "code",
   "execution_count": null,
   "id": "51bbfbe3",
   "metadata": {},
   "outputs": [],
   "source": [
    "# Drop Records with NaN values\n",
    "\n",
    "finalData = finalData.dropna()"
   ]
  },
  {
   "cell_type": "code",
   "execution_count": null,
   "id": "9dd7c5f8",
   "metadata": {},
   "outputs": [],
   "source": [
    "# Heatmap to check NA/NAN Values\n",
    "\n",
    "plt.figure(figsize=(10, 7))\n",
    "\n",
    "plt.title('Heatmap to check NA/NAN Values after DropNA')\n",
    "sns.heatmap(data=finalData[['Year', 'Month', 'Day', 'Casualties', 'Injuries']].isna(), cmap='Greens_r')\n",
    "\n",
    "plt.savefig('Images/Heatmap-to-check-NA-NAN-Values-after-DropNA.jpg', dpi=300)\n",
    "plt.show()"
   ]
  },
  {
   "cell_type": "markdown",
   "id": "797b3e05",
   "metadata": {},
   "source": [
    "##### <u>Observation:</u>\n",
    "* Now we don't have any NA Values in our Dataset."
   ]
  },
  {
   "cell_type": "code",
   "execution_count": null,
   "id": "795ca622",
   "metadata": {},
   "outputs": [],
   "source": [
    "# convert 'Injuries', 'Casualties' from float64 to int64\n",
    "\n",
    "finalData['Injuries'] = finalData['Injuries'].astype('int64')\n",
    "finalData['Casualties'] = finalData['Casualties'].astype('int64')\n",
    "\n",
    "finalData.dtypes"
   ]
  },
  {
   "cell_type": "markdown",
   "id": "884cf172",
   "metadata": {},
   "source": [
    "##### <u>Observation:</u>\n",
    "* We have our major numeric columns in int64 datatype."
   ]
  },
  {
   "cell_type": "code",
   "execution_count": null,
   "id": "b8df1adb",
   "metadata": {},
   "outputs": [],
   "source": [
    "# All available States/UTs, Attacks, Targets & Weapons\n",
    "\n",
    "\n",
    "print('States/UTs: ', sorted(pd.unique(finalData['State_UT'])), len(pd.unique(finalData['State_UT'])))\n",
    "\n",
    "print('\\nType_of_Attacks: ', sorted(pd.unique(finalData['Type_of_Attack'])), len(pd.unique(finalData['Type_of_Attack'])))\n",
    "\n",
    "print('\\nType_of_Targets: ', sorted(pd.unique(finalData['Type_of_Target'])), len(pd.unique(finalData['Type_of_Target'])))\n",
    "\n",
    "print('\\nType_of_Weapons: ', sorted(pd.unique(finalData['Type_of_Weapon'])), len(pd.unique(finalData['Type_of_Weapon'])))"
   ]
  },
  {
   "cell_type": "markdown",
   "id": "12cc7bf4",
   "metadata": {},
   "source": [
    "##### <u>Observation:</u>\n",
    "* We can clearly see that we have repetative names for states with different spellings or cases.\n",
    "* We can see this in case of <u>Andhra pradesh, Orissa, Uttaranchal</u>, \n",
    "\n",
    "#### <u>Action:</u>\n",
    "* We already know that State/UT names mentioned in Constitution of India are True & Standard.\n",
    "* Rename or Replace State/UT names as mentioned in Constitution of India."
   ]
  },
  {
   "cell_type": "code",
   "execution_count": null,
   "id": "59f28430",
   "metadata": {},
   "outputs": [],
   "source": [
    "# replace names to avoid redunduncy & confusion\n",
    "\n",
    "# 'Andhra pradesh' -> 'Andhra Pradesh'\n",
    "# 'Orissa' -> 'Odisha'\n",
    "# 'Uttaranchal' -> 'Uttarakhand'\n",
    "\n",
    "finalData['State_UT'].replace({'Andhra pradesh': 'Andhra Pradesh', \n",
    "                               'Orissa': 'Odisha', \n",
    "                               'Uttaranchal': 'Uttarakhand'}, inplace=True)"
   ]
  },
  {
   "cell_type": "markdown",
   "id": "3ed617d3",
   "metadata": {},
   "source": [
    "##### Observation: \n",
    "* We have replaced State/UT names as mentioned in Constitution of India."
   ]
  },
  {
   "cell_type": "markdown",
   "id": "c5269c88",
   "metadata": {},
   "source": [
    "<b>Note:</b> <br>\n",
    "    State & UT Name replacement & verification is done on the basis of, <br>\n",
    "    The Constitution of India, as on 9th December 2020, <br>\n",
    "    (FIRST SCHEDULE, I. The States, Page Number 179)\n",
    "    \n",
    "Click Here to Download -> <a href=\"https://legislative.gov.in/constitution-of-india\">The Constitution of India</a>"
   ]
  },
  {
   "cell_type": "code",
   "execution_count": null,
   "id": "89925ff8",
   "metadata": {},
   "outputs": [],
   "source": [
    "# Special Mention & Assumption\n",
    "\n",
    "finalData[finalData.Day >= 1][finalData.Month >= 11][finalData.Year >= 2019][finalData['State_UT'] == 'Jammu and Kashmir'].shape"
   ]
  },
  {
   "cell_type": "markdown",
   "id": "68731e4e",
   "metadata": {},
   "source": [
    "<b>Note:</b> <br>\n",
    "    <i>Jammu and Kashmir Reorganisation Act 2019, is in effect from 31st October 2019,</i> According to, <br>\n",
    "    The Constitution of India, as on 9th December 2020, <br>\n",
    "    (FIRST SCHEDULE, TT. The Union Territories, Page Number 180) <br><br>\n",
    "    \n",
    "   <b>All 22 Records from 1st November 2019 & onwards are assumed to be True from Global Terrorism Database</b>\n",
    "    \n",
    "Click Here to Download -> <a href=\"The Constitution of India\">The Constitution of India</a>    "
   ]
  },
  {
   "cell_type": "code",
   "execution_count": null,
   "id": "b50ba8df",
   "metadata": {},
   "outputs": [],
   "source": [
    "# All available States/UTs, Attacks, Targets & Weapons\n",
    "\n",
    "\n",
    "print('States/UTs: ', sorted(pd.unique(finalData['State_UT'])), len(pd.unique(finalData['State_UT'])))\n",
    "# State/UTs: 32 with 1 Unknown\n",
    "\n",
    "print('\\nType_of_Attacks: ', sorted(pd.unique(finalData['Type_of_Attack'])), len(pd.unique(finalData['Type_of_Attack'])))\n",
    "# Type_of_Attacks: 8 with 1 Unknown\n",
    "\n",
    "print('\\nType_of_Targets: ', sorted(pd.unique(finalData['Type_of_Target'])), len(pd.unique(finalData['Type_of_Target'])))\n",
    "# Type_of_Targets: 19 with 1 Unknown & 1 Other\n",
    "\n",
    "print('\\nType_of_Weapons: ', sorted(pd.unique(finalData['Type_of_Weapon'])), len(pd.unique(finalData['Type_of_Weapon'])))\n",
    "# Type_of_Weapon: 8 with 1 Unknown & 1 Other"
   ]
  },
  {
   "cell_type": "markdown",
   "id": "944224f7",
   "metadata": {},
   "source": [
    "##### <u>Observation:</u>\n",
    "* We have, <br>\n",
    "    State/UTs: 32 with 1 Unknown <br>\n",
    "    Type_of_Attacks: 8 with 1 Unknown <br>\n",
    "    Type_of_Targets: 19 with 1 Unknown & 1 Other <br>\n",
    "    Type_of_Weapon: 8 with 1 Unknown & 1 Other <br>"
   ]
  },
  {
   "cell_type": "code",
   "execution_count": null,
   "id": "b86baeb5",
   "metadata": {},
   "outputs": [],
   "source": [
    "# Check of NA/NAN values in Data\n",
    "\n",
    "print(finalData[['Year']].isna().sum())\n",
    "print(finalData[['Month']].isna().sum())\n",
    "print(finalData[['Day']].isna().sum())\n",
    "print(finalData[['Casualties']].isna().sum())\n",
    "print(finalData[['Injuries']].isna().sum())"
   ]
  },
  {
   "cell_type": "markdown",
   "id": "d3eb815c",
   "metadata": {},
   "source": [
    "##### <u>Observation:</u>\n",
    "* We don't have any NA Values in our major columns"
   ]
  },
  {
   "cell_type": "code",
   "execution_count": null,
   "id": "9a793a4a",
   "metadata": {},
   "outputs": [],
   "source": [
    "# Validity of Day, Month, Year\n",
    "\n",
    "# day\n",
    "print(finalData[finalData['Day'] < 1].shape[0])\n",
    "print(finalData[finalData['Day'] > 31].shape[0])\n",
    "\n",
    "# month\n",
    "print(finalData[finalData['Month'] < 1].shape[0])\n",
    "print(finalData[finalData['Month'] > 12].shape[0])\n",
    "\n",
    "# year\n",
    "print('Min Year: ', finalData['Year'].min())\n",
    "print('Max Year: ', finalData['Year'].max())"
   ]
  },
  {
   "cell_type": "markdown",
   "id": "07c7940b",
   "metadata": {},
   "source": [
    "##### <u>Observation:</u>\n",
    "* We have records where day is 0.\n",
    "\n",
    "##### <u>Action:</u>\n",
    "* Drop records where day is 0."
   ]
  },
  {
   "cell_type": "code",
   "execution_count": null,
   "id": "1ed740f7",
   "metadata": {},
   "outputs": [],
   "source": [
    "# Drop Records with Day as 0 (wrong information)\n",
    "finalData = finalData[finalData['Day'] != 0]\n",
    "finalData.shape"
   ]
  },
  {
   "cell_type": "markdown",
   "id": "55ef3f86",
   "metadata": {},
   "source": [
    "##### <u>Observation:</u>\n",
    "* After our preliminary Analysis, Observations * Actions, we are now ready with our data.\n",
    "* Our final Dataset now has 9 Features with 12929 Records."
   ]
  },
  {
   "cell_type": "markdown",
   "id": "9921b25a",
   "metadata": {},
   "source": [
    "# <b>================================================</b>\n",
    "### <u>Statewise Terror Attacks in India from 1972 - 2019</u>"
   ]
  },
  {
   "cell_type": "code",
   "execution_count": null,
   "id": "9e16031b",
   "metadata": {},
   "outputs": [],
   "source": [
    "# Statewise Terror Attacks in India from 1972 - 2019\n",
    "\n",
    "plt.figure(figsize=(10, 10))\n",
    "\n",
    "plt.title('State/UT wise Terror Attacks in India (1972- 2019)')\n",
    "ax = finalData['State_UT'].value_counts(ascending=True).plot(kind='barh', color='#66b3ff')\n",
    "ax.xaxis.tick_top()\n",
    "plt.xticks(fontsize=20)\n",
    "\n",
    "plt.savefig('Images/State-UT wise-Terror-Attacks-in-India-1972-2019-barh.jpg', dpi=300)\n",
    "plt.show()"
   ]
  },
  {
   "cell_type": "markdown",
   "id": "0ede5e63",
   "metadata": {},
   "source": [
    "##### <u>Observation:</u>\n",
    "* Jammu and Kashmir faced most number (nearly 3000) of Terror Attacks.\n",
    "* Top 5 most affected State/Uts in India by number of Terror Attcaks, <br>\n",
    "    <i>Jammu and Kashmir, Chhattisgarh, Manipur, Assam, Jharkhand</i>"
   ]
  },
  {
   "cell_type": "code",
   "execution_count": null,
   "id": "fbee6f2f",
   "metadata": {},
   "outputs": [],
   "source": [
    "# Which States/UTs faced more Terror Attcacks over the Time\n",
    "\n",
    "statewiseTerrorAttcacks = finalData['State_UT'].value_counts().reset_index()[:10]\n",
    "statewiseTerrorAttcacks.loc[len(statewiseTerrorAttcacks.index)] = ['Other', finalData['State_UT'].value_counts().reset_index()[10:]['State_UT'].sum()] \n",
    "statewiseTerrorAttcacks"
   ]
  },
  {
   "cell_type": "code",
   "execution_count": null,
   "id": "03f1d2a0",
   "metadata": {},
   "outputs": [],
   "source": [
    "# State/UT wise Terror Attacks in India (1972 - 2019)\n",
    "\n",
    "plt.figure(figsize=(17, 10))\n",
    "explode = (0.05, 0, 0, 0, 0, 0, 0, 0, 0, 0, 0)\n",
    "colors = ['#ff9999', '#66b3ff', '#99ff99', '#ffcc99', '#ff6666', '#c2c2f0', '#ffb3e6', \n",
    "          '#ff2266', '#a1a1f0', '#11b3e6', \n",
    "          '#aaaaaa']\n",
    "\n",
    "plt.title('State/UT wise Terror Attacks in India (1972 - 2019)')\n",
    "plt.pie(autopct='%.2f%%', x=statewiseTerrorAttcacks['State_UT'], labels=statewiseTerrorAttcacks['index'], colors=colors, explode=explode)\n",
    "\n",
    "centre_circle = plt.Circle((0,0),0.75,fc='white')\n",
    "fig = plt.gcf()\n",
    "fig.gca().add_artist(centre_circle)\n",
    "\n",
    "plt.savefig('Images/State-UT-wise-Terror-Attacks-in-India-1972-2019-pie.jpg', dpi=300)\n",
    "plt.show()"
   ]
  },
  {
   "cell_type": "markdown",
   "id": "f020b6db",
   "metadata": {},
   "source": [
    "##### <u>Observation:</u>\n",
    "* Top 4 States Jammu and Kashmir, Chhattisgarh, Manipur, Assam, have faced nearly 50% <small> (22.92 + 9.06 + 8.87 + 8.42 = 49.27) </small> Terror attacks happend in India."
   ]
  },
  {
   "cell_type": "markdown",
   "id": "2aa60a3e",
   "metadata": {},
   "source": [
    "# <b>================================================</b>\n",
    "### <u>Which States/UTs had more Casualties over the Time</u>"
   ]
  },
  {
   "cell_type": "code",
   "execution_count": null,
   "id": "4bc61cce",
   "metadata": {},
   "outputs": [],
   "source": [
    "# Which States/UTs had more Casualties over the Time\n",
    "\n",
    "stateWiseCasualties = finalData[['State_UT', 'Casualties']].groupby('State_UT').sum().reset_index()\n",
    "stateWiseCasualties = stateWiseCasualties.sort_values('Casualties', ascending=True)\n",
    "stateWiseCasualties.head()"
   ]
  },
  {
   "cell_type": "code",
   "execution_count": null,
   "id": "bd27b20f",
   "metadata": {},
   "outputs": [],
   "source": [
    "# State/Ut Wise Casualties at Terror Attacks in India (1972 - 2019)\n",
    "\n",
    "fig, ax = plt.subplots(figsize=(10, 10))\n",
    "\n",
    "plt.title('State/UT Wise Casualties at Terror Attacks in India (1972 - 2019)')\n",
    "plt.barh(stateWiseCasualties['State_UT'], stateWiseCasualties['Casualties'], color = '#66b3ff')\n",
    "ax.xaxis.tick_top()\n",
    "plt.xticks(fontsize=20)\n",
    "\n",
    "plt.savefig('Images/State-UT-wise-Casualties-at-Terror-Attacks-in-India-1972-2019-barh.jpg', dpi=300)\n",
    "plt.show()"
   ]
  },
  {
   "cell_type": "markdown",
   "id": "fd0dd1fe",
   "metadata": {},
   "source": [
    "##### <u>Observation:</u>\n",
    "* Jammu and Kashmir faced nearly 4000 casulaties from 1972 to 2019"
   ]
  },
  {
   "cell_type": "markdown",
   "id": "a7d17ebd",
   "metadata": {},
   "source": [
    "# <b>================================================</b>\n",
    "### <u>Yearwise Terror Attacks in India (1972- 2019)</u>"
   ]
  },
  {
   "cell_type": "code",
   "execution_count": null,
   "id": "23b25d09",
   "metadata": {},
   "outputs": [],
   "source": [
    "# Yearwise Terror Attacks in India (1972- 2019)\n",
    "\n",
    "plt.figure(figsize=(10, 7))\n",
    "\n",
    "plt.title('Yearwise Terror Attacks in India (1972- 2019)')\n",
    "sns.lineplot(data=finalData.pivot_table(index = ['Year'], aggfunc ='size'), color= '#66b3ff')\n",
    "plt.ylabel('Number of Attacks per Year')\n",
    "\n",
    "plt.savefig('Images/Yearwise-Terror-Attacks-in-India-1972-2019-lineplot.jpg', dpi=300)\n",
    "plt.show()"
   ]
  },
  {
   "cell_type": "markdown",
   "id": "1945af2d",
   "metadata": {},
   "source": [
    "##### <u>Observation:</u>\n",
    "* India has seen increase in terror attacks from 1985 with a drop after 1900.\n",
    "* After 2008 India has witnessed 400 terror attacks within 2 years (from 2008 to 2010).\n",
    "* After nealy 2015 we can clearly see a major drop in Terror Attacks."
   ]
  },
  {
   "cell_type": "markdown",
   "id": "b5175b6d",
   "metadata": {},
   "source": [
    "# <b>================================================</b>\n",
    "### <u>Yearwise Terror Attacks in Top 6 Most affected State/UTs</u>"
   ]
  },
  {
   "cell_type": "code",
   "execution_count": null,
   "id": "b98454f3",
   "metadata": {},
   "outputs": [],
   "source": [
    "# Yearwise Terror Attacks in 'Jammu and Kashmir', 'Chhattisgarh', 'Manipur', 'Assam', 'Jharkhand', 'Punjab'\n",
    "\n",
    "yearWiseAttacksJandK = finalData[finalData['State_UT'] == 'Jammu and Kashmir'][['Year']].groupby('Year').size().reset_index(name='count')\n",
    "yearWiseAttacksChhattisgarh = finalData[finalData['State_UT'] == 'Chhattisgarh'][['Year']].groupby('Year').size().reset_index(name='count')\n",
    "yearWiseAttacksManipur = finalData[finalData['State_UT'] == 'Manipur'][['Year']].groupby('Year').size().reset_index(name='count')\n",
    "\n",
    "yearWiseAttacksAssam = finalData[finalData['State_UT'] == 'Assam'][['Year']].groupby('Year').size().reset_index(name='count')\n",
    "yearWiseAttacksJharkhand = finalData[finalData['State_UT'] == 'Jharkhand'][['Year']].groupby('Year').size().reset_index(name='count')\n",
    "yearWiseAttacksPunjab = finalData[finalData['State_UT'] == 'Punjab'][['Year']].groupby('Year').size().reset_index(name='count')"
   ]
  },
  {
   "cell_type": "code",
   "execution_count": null,
   "id": "266f01b7",
   "metadata": {},
   "outputs": [],
   "source": [
    "# Yearwise Terror Attacks from (1972 - 2019)\n",
    "\n",
    "fig, axes = plt.subplots(1, 1, figsize=(10, 7))\n",
    "fig.suptitle('Yearwise Terror Attacks in 6 most affected State/UTs from (1972 - 2019)')\n",
    "\n",
    "colors = ['#ff9999', '#66b3ff', '#99ff99', '#ffcc99', '#ff6666', '#c2c2f0']\n",
    "\n",
    "sns.lineplot(ax=axes, data=yearWiseAttacksJandK, x='Year', y='count', label='Jammu and Kashmir', color=colors[4])\n",
    "sns.lineplot(ax=axes, data=yearWiseAttacksChhattisgarh, x='Year', y='count', label='Chhattisgarh', color=colors[5])\n",
    "sns.lineplot(ax=axes, data=yearWiseAttacksManipur, x='Year', y='count', label='Manipur', color=colors[2])\n",
    "sns.lineplot(ax=axes, data=yearWiseAttacksAssam, x='Year', y='count', label='Assam', color=colors[3])\n",
    "sns.lineplot(ax=axes, data=yearWiseAttacksJharkhand, x='Year', y='count', label='Jharkhand', color=colors[0])\n",
    "sns.lineplot(ax=axes, data=yearWiseAttacksPunjab, x='Year', y='count', label='Punjab', color=colors[1])\n",
    "\n",
    "plt.savefig('Images/Yearwise-Terror-Attacks-1972-2019-lineplot.jpg', dpi=300)\n",
    "plt.show()"
   ]
  },
  {
   "cell_type": "markdown",
   "id": "eedfa14d",
   "metadata": {},
   "source": [
    "##### <u>Observation: </u>\n",
    "* Jammu and Kashmir has rise in Terror Attacks by 400 within 20 Years (from 2010 to 2020)\n",
    "* Chhattisgarh, Manipur, Jharkhand also faced rise in number of Terror Attacks by year after 2005.\n",
    "* Number of Terror attacks in Punjab are decreased by year 1995 till 2015, after 2015 numbers are slighly increased.\n",
    "* In Manipur, Assam & Jharkhand Number of Attacks were decresed after 2015."
   ]
  },
  {
   "cell_type": "markdown",
   "id": "3b58175b",
   "metadata": {},
   "source": [
    "# <b>================================================</b>\n",
    "### <u>Which are the Most frequent Targets in Terror Attacks (1972 - 2019)</u>"
   ]
  },
  {
   "cell_type": "code",
   "execution_count": null,
   "id": "561929c8",
   "metadata": {},
   "outputs": [],
   "source": [
    "# Which are the Most frequent Targets in Terror Attacks (1972 - 2019)\n",
    "\n",
    "plt.figure(figsize=(10, 10))\n",
    "\n",
    "plt.title('Most frequent Targets in Terror Attacks (1972 - 2019)')\n",
    "ax = finalData['Type_of_Target'].value_counts(ascending=True).plot(kind='barh', color= '#66b3ff')\n",
    "ax.xaxis.tick_top()\n",
    "plt.xticks(fontsize=20)\n",
    "\n",
    "plt.savefig('Images/Most-frequent-Targets-in-Terror-Attacks-1972-2019-barh.jpg', dpi=300)\n",
    "plt.show()"
   ]
  },
  {
   "cell_type": "markdown",
   "id": "c0dc4230",
   "metadata": {},
   "source": [
    "##### <u>Observation:</u>\n",
    "* Citizens & Private Property, Police, Government (General), Business were mostly targeted over the year"
   ]
  },
  {
   "cell_type": "code",
   "execution_count": null,
   "id": "119c18bc",
   "metadata": {},
   "outputs": [],
   "source": [
    "# Most frequent Targets in Terror Attacks (1972 - 2019)\n",
    "\n",
    "targetwiseData = finalData['Type_of_Target'].value_counts().reset_index()[:6]\n",
    "targetwiseData.loc[len(targetwiseData.index)] = ['Other', finalData['Type_of_Target'].value_counts().reset_index()[6:]['Type_of_Target'].sum()] \n",
    "targetwiseData"
   ]
  },
  {
   "cell_type": "code",
   "execution_count": null,
   "id": "b6f6541e",
   "metadata": {},
   "outputs": [],
   "source": [
    "# Most frequent Targets in Terror Attacks (1972 - 2019)\n",
    "\n",
    "plt.figure(figsize=(10, 7))\n",
    "colors = ['#ff9999', '#66b3ff', '#99ff99', '#ffcc99', '#ff6666', '#ffb3e6', '#aaaaaa']\n",
    "explode = (0.1, 0, 0, 0, 0, 0, 0)\n",
    "\n",
    "plt.title('Most frequent Targets in Terror Attacks (1972 - 2019)')\n",
    "plt.pie(autopct='%.2f%%', x=targetwiseData['Type_of_Target'], labels=targetwiseData['index'], colors=colors, explode=explode)\n",
    "\n",
    "# centre_circle = plt.Circle((0,0),0.75,fc='white')\n",
    "# fig = plt.gcf()\n",
    "# fig.gca().add_artist(centre_circle)\n",
    "\n",
    "plt.savefig('Images/Most-frequent-Targets-in-Terror-Attacks-1972-2019-pie.jpg', dpi=300)\n",
    "plt.show()"
   ]
  },
  {
   "cell_type": "markdown",
   "id": "9850e254",
   "metadata": {},
   "source": [
    "##### <u>Observation:</u>\n",
    "* Citizens & Private Property, Police, Government (General) were targeted more than 50% of the time"
   ]
  },
  {
   "cell_type": "markdown",
   "id": "03c550e6",
   "metadata": {},
   "source": [
    "# <b>================================================</b>\n",
    "### <u>Yearwise Terror attacks on Targets (1972 - 2019)<u/>"
   ]
  },
  {
   "cell_type": "code",
   "execution_count": null,
   "id": "23848d03",
   "metadata": {},
   "outputs": [],
   "source": [
    "# Yearwise Terror attacks on Targets (1972 - 2019)\n",
    "\n",
    "yearWiseAttacksCitizens = finalData[finalData['Type_of_Target'] == 'Private Citizens & Property'][['Year']].groupby('Year').size().reset_index(name='count')\n",
    "yearWiseAttacksPolice = finalData[finalData['Type_of_Target'] == 'Police'][['Year']].groupby('Year').size().reset_index(name='count')\n",
    "yearWiseAttacksGovernment = finalData[finalData['Type_of_Target'] == 'Government (General)'][['Year']].groupby('Year').size().reset_index(name='count')\n",
    "yearWiseAttacksBusiness = finalData[finalData['Type_of_Target'] == 'Business'][['Year']].groupby('Year').size().reset_index(name='count')"
   ]
  },
  {
   "cell_type": "code",
   "execution_count": null,
   "id": "148e8a31",
   "metadata": {},
   "outputs": [],
   "source": [
    "# Yearwise Terror attacks on Targets (1972 - 2019)\n",
    "\n",
    "fig, axes = plt.subplots(1, 1, figsize=(10, 7))\n",
    "fig.suptitle('Yearwise Terror attacks on Targets (1972 - 2019)')\n",
    "\n",
    "colors = ['#ffcc99', '#99ff99', '#66b3ff', '#ff6666']\n",
    "\n",
    "sns.lineplot(ax=axes, data=yearWiseAttacksCitizens, x='Year', y='count', label='Citizens & Private Property', color=colors[2])\n",
    "sns.lineplot(ax=axes, data=yearWiseAttacksPolice, x='Year', y='count', label='Police', color=colors[3])\n",
    "sns.lineplot(ax=axes, data=yearWiseAttacksGovernment, x='Year', y='count', label='Government (General)', color=colors[0])\n",
    "sns.lineplot(ax=axes, data=yearWiseAttacksBusiness, x='Year', y='count', label='Business', color=colors[1])\n",
    "\n",
    "plt.savefig('Images/Yearwise-Terror-attacks-on-Targets-1972-2019-lineplot.jpg', dpi=300)\n",
    "plt.show()"
   ]
  },
  {
   "cell_type": "markdown",
   "id": "71700a3e",
   "metadata": {},
   "source": [
    "##### <u>Observations:</u>\n",
    "* From 1985 to 1990 mostly Citizens & Private Property, Police were Targeted.\n",
    "* After 2005 we can clearly see rise in number of attacks on every target, specifically Citizens & Private Property, Police."
   ]
  },
  {
   "cell_type": "markdown",
   "id": "7ba8908d",
   "metadata": {},
   "source": [
    "# <b>================================================</b>"
   ]
  },
  {
   "cell_type": "code",
   "execution_count": null,
   "id": "3a4f18c2",
   "metadata": {},
   "outputs": [],
   "source": [
    "# Most frequent Attacks in Terror Attacks (1972 - 2019)\n",
    "\n",
    "attackwiseTerrorAttcacks = finalData['Type_of_Attack'].value_counts().reset_index()[:5]\n",
    "attackwiseTerrorAttcacks.loc[len(attackwiseTerrorAttcacks.index)] = ['Other', finalData['Type_of_Attack'].value_counts().reset_index()[5:]['Type_of_Attack'].sum()] \n",
    "attackwiseTerrorAttcacks"
   ]
  },
  {
   "cell_type": "code",
   "execution_count": null,
   "id": "5fb291f7",
   "metadata": {},
   "outputs": [],
   "source": [
    "# Most frequent Attacks in Terror Attacks (1972 - 2019)\n",
    "\n",
    "plt.figure(figsize=(10, 7))\n",
    "colors = ['#ff9999', '#66b3ff', '#99ff99', '#ffcc99', '#ff6666', '#aaaaaa']\n",
    "\n",
    "plt.title('Most frequent Type of Attacks in Terror Attacks (1972 - 2019)')\n",
    "plt.pie(autopct='%.2f%%', x=attackwiseTerrorAttcacks['Type_of_Attack'], labels=attackwiseTerrorAttcacks['index'], colors=colors)\n",
    "\n",
    "centre_circle = plt.Circle((0,0),0.75,fc='white')\n",
    "fig = plt.gcf()\n",
    "fig.gca().add_artist(centre_circle)\n",
    "\n",
    "plt.savefig('Images/Most-frequent-Attacks-in-Terror-Attacks-1972-2019-pie.jpg', dpi=300)\n",
    "plt.show()"
   ]
  },
  {
   "cell_type": "code",
   "execution_count": null,
   "id": "c50c67d4",
   "metadata": {},
   "outputs": [],
   "source": [
    "# Yearwise Attacks used in Terror attacks (1972 - 2015)\n",
    "\n",
    "attackWiseAttacksBombing = finalData[finalData['Type_of_Attack'] == 'Bombing/Explosion'][['Year']].groupby('Year').size().reset_index(name='count')\n",
    "attackWiseAttacksArmedAssault = finalData[finalData['Type_of_Attack'] == 'Armed Assault'][['Year']].groupby('Year').size().reset_index(name='count')\n",
    "attackWiseAttacksAssassination = finalData[finalData['Type_of_Attack'] == 'Assassination'][['Year']].groupby('Year').size().reset_index(name='count')\n",
    "attackWiseAttacksKidnapping = finalData[finalData['Type_of_Attack'] == 'Hostage Taking (Kidnapping)'][['Year']].groupby('Year').size().reset_index(name='count')"
   ]
  },
  {
   "cell_type": "code",
   "execution_count": null,
   "id": "dbb92f3a",
   "metadata": {},
   "outputs": [],
   "source": [
    "# Yearwise Weapons used in Terror attacks (1972 - 2019)\n",
    "\n",
    "fig, axes = plt.subplots(1, 1, figsize=(10, 7))\n",
    "fig.suptitle('Yearwise Type of Attacks used in Terror attacks (1972 - 2019)')\n",
    "\n",
    "colors = ['#ffcc99', '#99ff99', '#66b3ff', '#ff6666']\n",
    "\n",
    "sns.lineplot(ax=axes, data=attackWiseAttacksBombing, x='Year', y='count', label='Bombing/Explosion', color=colors[3])\n",
    "\n",
    "sns.lineplot(ax=axes, data=attackWiseAttacksArmedAssault, x='Year', y='count', label='Armed Assault', color=colors[2])\n",
    "\n",
    "sns.lineplot(ax=axes, data=attackWiseAttacksAssassination, x='Year', y='count', label='Assassination', color=colors[1])\n",
    "\n",
    "sns.lineplot(ax=axes, data=attackWiseAttacksKidnapping, x='Year', y='count', label='Hostage Taking (Kidnapping)', color=colors[0])\n",
    "\n",
    "plt.savefig('Images/Yearwise-Attacks-used-in-Terror-Attacks-1972-2019-lineplot.jpg', dpi=300)\n",
    "plt.show()"
   ]
  },
  {
   "cell_type": "markdown",
   "id": "c1e5aaa2",
   "metadata": {},
   "source": [
    "##### <u>Observations:</u>\n",
    "* After 2005 Rate of Bombing/Explosion is increased by a large margin.\n",
    "* Rate of Armed Assault is increased after 2005.\n",
    "* Before 1990 & After 1985 there were higher number of Assasinations."
   ]
  },
  {
   "cell_type": "markdown",
   "id": "64d1bdce",
   "metadata": {},
   "source": [
    "# <b>================================================</b>\n",
    "### <u>Most frequent Weapons in Terror Attacks (1972 - 2019)</u>"
   ]
  },
  {
   "cell_type": "code",
   "execution_count": null,
   "id": "23b85cd3",
   "metadata": {},
   "outputs": [],
   "source": [
    "# Most frequent Weapons in Terror Attacks (1972 - 2019)\n",
    "\n",
    "weaponwiseTerrorAttcacks = finalData['Type_of_Weapon'].value_counts().reset_index()[:5]\n",
    "weaponwiseTerrorAttcacks.loc[len(weaponwiseTerrorAttcacks.index)] = ['Other', finalData['Type_of_Weapon'].value_counts().reset_index()[5:]['Type_of_Weapon'].sum()] \n",
    "weaponwiseTerrorAttcacks"
   ]
  },
  {
   "cell_type": "code",
   "execution_count": null,
   "id": "b8f54df8",
   "metadata": {},
   "outputs": [],
   "source": [
    "# Most frequent Weapons in Terror Attacks (1972 - 2019)\n",
    "\n",
    "plt.figure(figsize=(10, 7))\n",
    "colors = ['#ff9999', '#66b3ff', '#99ff99', '#ffcc99', '#ff6666', '#aaaaaa']\n",
    "\n",
    "plt.title('Most frequent Weapons in Terror Attacks (1972 - 2019)')\n",
    "plt.pie(autopct='%.2f%%', x=weaponwiseTerrorAttcacks['Type_of_Weapon'], labels=weaponwiseTerrorAttcacks['index'], colors=colors)\n",
    "\n",
    "centre_circle = plt.Circle((0,0),0.75,fc='white')\n",
    "fig = plt.gcf()\n",
    "fig.gca().add_artist(centre_circle)\n",
    "\n",
    "plt.savefig('Images/Most-frequent-Weapons-in-Terror-Attacks-1972-2019-pie.jpg', dpi=300)\n",
    "plt.show()"
   ]
  },
  {
   "cell_type": "markdown",
   "id": "9170f53a",
   "metadata": {},
   "source": [
    "##### <u>Observation:</u>\n",
    "* Explosives & Firearms were used more than 75% of the time."
   ]
  },
  {
   "cell_type": "code",
   "execution_count": null,
   "id": "5a0d6a9b",
   "metadata": {},
   "outputs": [],
   "source": [
    "# Yearwise Weapons used in Terror attacks (1972 - 2015)\n",
    "\n",
    "weaponWiseAttacksExplosives = finalData[finalData['Type_of_Weapon'] == 'Explosives'][['Year']].groupby('Year').size().reset_index(name='count')\n",
    "weaponWiseAttacksFirearms = finalData[finalData['Type_of_Weapon'] == 'Firearms'][['Year']].groupby('Year').size().reset_index(name='count')\n",
    "weaponWiseAttacksIncendiary = finalData[finalData['Type_of_Weapon'] == 'Incendiary'][['Year']].groupby('Year').size().reset_index(name='count')\n",
    "weaponWiseAttacksMelee = finalData[finalData['Type_of_Weapon'] == 'Melee'][['Year']].groupby('Year').size().reset_index(name='count')"
   ]
  },
  {
   "cell_type": "code",
   "execution_count": null,
   "id": "aece923a",
   "metadata": {},
   "outputs": [],
   "source": [
    "# Yearwise Weapons used in Terror attacks (1972 - 2019)\n",
    "\n",
    "fig, axes = plt.subplots(1, 1, figsize=(10, 7))\n",
    "fig.suptitle('Yearwise Weapons used in Terror attacks (1972 - 2019)')\n",
    "\n",
    "colors = ['#ffcc99', '#99ff99', '#66b3ff', '#ff6666']\n",
    "\n",
    "sns.lineplot(ax=axes, data=weaponWiseAttacksExplosives, x='Year', y='count', label='Explosives', color=colors[3])\n",
    "sns.lineplot(ax=axes, data=weaponWiseAttacksFirearms, x='Year', y='count', label='Firearms', color=colors[2])\n",
    "sns.lineplot(ax=axes, data=weaponWiseAttacksIncendiary, x='Year', y='count', label='Incendiary', color=colors[1])\n",
    "sns.lineplot(ax=axes, data=weaponWiseAttacksMelee, x='Year', y='count', label='Melee', color=colors[0])\n",
    "\n",
    "plt.savefig('Images/Yearwise-Weapons-used-in-Terror-Attacks-1972-2019-pie.jpg', dpi=300)\n",
    "plt.show()"
   ]
  },
  {
   "cell_type": "markdown",
   "id": "e52ed786",
   "metadata": {},
   "source": [
    "##### <u>Observations:</u>\n",
    "* In the decade of 1985 to 1995 Firearms were mostly used for attacks than Explosives or any other weapon\n",
    "* After 2010 use of Explosives were most common as a weapon for attack.\n",
    "* Use of Melee, Incidiary was negligible in the decade of 1995 to 2005, which incresed after 2005."
   ]
  },
  {
   "cell_type": "markdown",
   "id": "95e66551",
   "metadata": {},
   "source": [
    "# <b>================================================</b>\n",
    "### <u>Study of 4 most affected States</u>"
   ]
  },
  {
   "cell_type": "code",
   "execution_count": null,
   "id": "d0ebd66d",
   "metadata": {},
   "outputs": [],
   "source": [
    "# J&K => Increase in attacks after 2010\n",
    "# Chhattisgarh => Increase in attacks after 2005\n",
    "# Manipur => Increase in attacks after 2005\n",
    "# Assam => Increase in attacks after 2005"
   ]
  },
  {
   "cell_type": "code",
   "execution_count": null,
   "id": "093e4df5",
   "metadata": {},
   "outputs": [],
   "source": [
    "# Study of 4 most affected States\n",
    "\n",
    "JandK = finalData[finalData['State_UT'] == 'Jammu and Kashmir'][['Year', 'Type_of_Attack', 'Type_of_Target', 'Type_of_Weapon', 'Casualties']]\n",
    "Chhattisgarh = finalData[finalData['State_UT'] == 'Chhattisgarh'][['Year', 'Type_of_Attack', 'Type_of_Target', 'Type_of_Weapon', 'Casualties']]\n",
    "Manipur = finalData[finalData['State_UT'] == 'Manipur'][['Year', 'Type_of_Attack', 'Type_of_Target', 'Type_of_Weapon', 'Casualties']]\n",
    "Assam = finalData[finalData['State_UT'] == 'Assam'][['Year', 'Type_of_Attack', 'Type_of_Target', 'Type_of_Weapon', 'Casualties']]\n",
    "\n",
    "JandK.head()"
   ]
  },
  {
   "cell_type": "code",
   "execution_count": null,
   "id": "63593402",
   "metadata": {},
   "outputs": [],
   "source": [
    "# Yearwise Change in Weapons, Targets, Attacks & Casualties in 'Jammu and Kashmir', 'Chhattisgarh', 'Manipur', 'Assam' (1972 - 2010)\n",
    "\n",
    "yearwiseJandKAttacks = JandK.groupby(['Year','Type_of_Attack']).size().reset_index(name = 'count')\n",
    "yearwiseJandKWeapons = JandK.groupby(['Year','Type_of_Weapon']).size().reset_index(name = 'count')\n",
    "yearwiseJandKTargets = JandK.groupby(['Year','Type_of_Target']).size().reset_index(name = 'count')\n",
    "yearwiseJandKCasualties = JandK[['Year','Casualties']].groupby('Year').sum().reset_index()\n",
    "\n",
    "yearwiseChhattisgarhAttacks = Chhattisgarh.groupby(['Year','Type_of_Attack']).size().reset_index(name = 'count')\n",
    "yearwiseChhattisgarhWeapons = Chhattisgarh.groupby(['Year','Type_of_Weapon']).size().reset_index(name = 'count')\n",
    "yearwiseChhattisgarhTargets = Chhattisgarh.groupby(['Year','Type_of_Target']).size().reset_index(name = 'count')\n",
    "yearwiseChhattisgarhCasualties = Chhattisgarh[['Year','Casualties']].groupby('Year').sum().reset_index()\n",
    "\n",
    "yearwiseManipurAttacks = Manipur.groupby(['Year','Type_of_Attack']).size().reset_index(name = 'count')\n",
    "yearwiseManipurWeapons = Manipur.groupby(['Year','Type_of_Weapon']).size().reset_index(name = 'count')\n",
    "yearwiseManipurTargets = Manipur.groupby(['Year','Type_of_Target']).size().reset_index(name = 'count')\n",
    "yearwiseManipurCasualties = Manipur[['Year','Casualties']].groupby('Year').sum().reset_index()\n",
    "\n",
    "yearwiseAssamAttacks = Assam.groupby(['Year','Type_of_Attack']).size().reset_index(name = 'count')\n",
    "yearwiseAssamWeapons = Assam.groupby(['Year','Type_of_Weapon']).size().reset_index(name = 'count')\n",
    "yearwiseAssamTargets = Assam.groupby(['Year','Type_of_Target']).size().reset_index(name = 'count')\n",
    "yearwiseAssamCasualties = Assam[['Year','Casualties']].groupby('Year').sum().reset_index()\n",
    "\n",
    "yearwiseJandKCasualties.head()"
   ]
  },
  {
   "cell_type": "code",
   "execution_count": null,
   "id": "232073b1",
   "metadata": {},
   "outputs": [],
   "source": [
    "# Yearwise Change in Weapons, Targets & Attacks in 'Jammu and Kashmir' (1972 - 2019)\n",
    "\n",
    "fig, axes = plt.subplots(2, 2, figsize=(17, 10))\n",
    "fig.suptitle('Yearwise Change in Weapons, Targets & Attacks in \"Jammu and Kashmir\" (1972 - 2019)')\n",
    "\n",
    "colors = ['#ffcc99', '#99ff99', '#66b3ff', '#ff6666']\n",
    "\n",
    "sns.lineplot(ax = axes[0, 0], \n",
    "             x = yearwiseJandKAttacks[yearwiseJandKAttacks['Type_of_Attack'] == 'Bombing/Explosion']['Year'], \n",
    "             y = yearwiseJandKAttacks[yearwiseJandKAttacks['Type_of_Attack'] == 'Bombing/Explosion']['count'], \n",
    "             label = 'Bombing/Explosion', \n",
    "             color = colors[2])\n",
    "sns.lineplot(ax = axes[0, 0], \n",
    "             x = yearwiseJandKAttacks[yearwiseJandKAttacks['Type_of_Attack'] == 'Armed Assault']['Year'], \n",
    "             y = yearwiseJandKAttacks[yearwiseJandKAttacks['Type_of_Attack'] == 'Armed Assault']['count'], \n",
    "             label = 'Armed Assault', \n",
    "             color = colors[3])\n",
    "sns.lineplot(ax = axes[0, 0], \n",
    "             x = yearwiseJandKAttacks[yearwiseJandKAttacks['Type_of_Attack'] == 'Assassination']['Year'], \n",
    "             y = yearwiseJandKAttacks[yearwiseJandKAttacks['Type_of_Attack'] == 'Assassination']['count'], \n",
    "             label = 'Assassination', \n",
    "             color = colors[0])\n",
    "sns.lineplot(ax = axes[0, 0], \n",
    "             x = yearwiseJandKAttacks[yearwiseJandKAttacks['Type_of_Attack'] == 'Hostage Taking (Kidnapping)']['Year'], \n",
    "             y = yearwiseJandKAttacks[yearwiseJandKAttacks['Type_of_Attack'] == 'Hostage Taking (Kidnapping)']['count'], \n",
    "             label = 'Hostage Taking (Kidnapping)', \n",
    "             color = colors[1])\n",
    "\n",
    "axes[0, 0].set_title('Attacks used over the years')\n",
    "\n",
    "\n",
    "\n",
    "sns.lineplot(ax = axes[0, 1], \n",
    "             x = yearwiseJandKTargets[yearwiseJandKTargets['Type_of_Target'] == 'Private Citizens & Property']['Year'], \n",
    "             y = yearwiseJandKTargets[yearwiseJandKTargets['Type_of_Target'] == 'Private Citizens & Property']['count'], \n",
    "             label = 'Private Citizens & Property', \n",
    "             color = colors[2])\n",
    "sns.lineplot(ax = axes[0, 1], \n",
    "             x = yearwiseJandKTargets[yearwiseJandKTargets['Type_of_Target'] == 'Police']['Year'], \n",
    "             y = yearwiseJandKTargets[yearwiseJandKTargets['Type_of_Target'] == 'Police']['count'], \n",
    "             label = 'Police', \n",
    "             color = colors[3])\n",
    "sns.lineplot(ax = axes[0, 1], \n",
    "             x = yearwiseJandKTargets[yearwiseJandKTargets['Type_of_Target'] == 'Government (General)']['Year'], \n",
    "             y = yearwiseJandKTargets[yearwiseJandKTargets['Type_of_Target'] == 'Government (General)']['count'], \n",
    "             label = 'Government (General)', \n",
    "             color = colors[0])\n",
    "sns.lineplot(ax = axes[0, 1], \n",
    "             x = yearwiseJandKTargets[yearwiseJandKTargets['Type_of_Target'] == 'Business']['Year'], \n",
    "             y = yearwiseJandKTargets[yearwiseJandKTargets['Type_of_Target'] == 'Business']['count'], \n",
    "             label = 'Business', \n",
    "             color = colors[1])\n",
    "\n",
    "axes[0, 1].set_title('Targets used over the years')\n",
    "\n",
    "\n",
    "\n",
    "sns.lineplot(ax = axes[1, 0], \n",
    "             x = yearwiseJandKWeapons[yearwiseJandKWeapons['Type_of_Weapon'] == 'Explosives']['Year'], \n",
    "             y = yearwiseJandKWeapons[yearwiseJandKWeapons['Type_of_Weapon'] == 'Explosives']['count'], \n",
    "             label = 'Explosives', \n",
    "             color = colors[2])\n",
    "sns.lineplot(ax = axes[1, 0], \n",
    "             x = yearwiseJandKWeapons[yearwiseJandKWeapons['Type_of_Weapon'] == 'Firearms']['Year'], \n",
    "             y = yearwiseJandKWeapons[yearwiseJandKWeapons['Type_of_Weapon'] == 'Firearms']['count'], \n",
    "             label = 'Firearms', \n",
    "             color = colors[3])\n",
    "sns.lineplot(ax = axes[1, 0], \n",
    "             x = yearwiseJandKWeapons[yearwiseJandKWeapons['Type_of_Weapon'] == 'Incendiary']['Year'], \n",
    "             y = yearwiseJandKWeapons[yearwiseJandKWeapons['Type_of_Weapon'] == 'Incendiary']['count'], \n",
    "             label = 'Incendiary', \n",
    "             color = colors[0])\n",
    "sns.lineplot(ax = axes[1, 0], \n",
    "             x = yearwiseJandKWeapons[yearwiseJandKWeapons['Type_of_Weapon'] == 'Melee']['Year'], \n",
    "             y = yearwiseJandKWeapons[yearwiseJandKWeapons['Type_of_Weapon'] == 'Melee']['count'], \n",
    "             label = 'Melee', \n",
    "             color = colors[1])\n",
    "\n",
    "axes[1, 0].set_title('Weapons used over the years')\n",
    "\n",
    "\n",
    "\n",
    "sns.lineplot(ax = axes[1, 1], \n",
    "             x = yearwiseJandKCasualties['Year'], \n",
    "             y = yearwiseJandKCasualties['Casualties'], \n",
    "             label = 'Casualties', \n",
    "             color = colors[2])\n",
    "\n",
    "axes[1, 1].set_title('Casualties over the years')\n",
    "\n",
    "\n",
    "plt.legend()\n",
    "\n",
    "plt.savefig('Images/Yearwise-Change-in-Weapons-Targets-Attacks-in-Jammu-and-Kashmir-1972-2019-lineplot.jpg', dpi=300)\n",
    "plt.show()\n"
   ]
  },
  {
   "cell_type": "markdown",
   "id": "1b01a783",
   "metadata": {},
   "source": [
    "##### <u>Observations related to Jammu and Kashmir</u>\n",
    "* Type of Attacks\n",
    "    - There was rise in Assasinations in year 1990.\n",
    "    - Rise in Bombing/Explosions after 1995 till 2000.\n",
    "    - There was significant increase in Armed Assault, Bombing/Explosions after 2010.\n",
    "    - Hostage Taking (Kidnapping) was also increased after 2015 to 2019\n",
    "* Type of Targets\n",
    "    - After 2015, Police were mostly targeted in Attacks.\n",
    "    - In 1995, between 2000 to 2005 Private property, Citizens were mostly targeted.\n",
    "* Type of Weapons\n",
    "    - As there is a direct relationship between attack and weapon type, it can also be seen their graphs.\n",
    "* Casualties\n",
    "    - Most number of casualties were happended between 2000 & 2005.\n",
    "    - Although the number of attacks were increased after 2010, number of casualties were less than 200 in a year."
   ]
  },
  {
   "cell_type": "code",
   "execution_count": null,
   "id": "932a8802",
   "metadata": {},
   "outputs": [],
   "source": [
    "# Yearwise Change in Weapons, Targets & Attacks in 'Chhattisgarh' (1972 - 2019)\n",
    "\n",
    "fig, axes = plt.subplots(2, 2, figsize=(17, 10))\n",
    "fig.suptitle('Yearwise Change in Weapons, Targets & Attacks in \"Chhattisgarh\" (1972 - 2019)')\n",
    "\n",
    "colors = ['#ffcc99', '#99ff99', '#66b3ff', '#ff6666']\n",
    "\n",
    "sns.lineplot(ax = axes[0, 0], \n",
    "             x = yearwiseChhattisgarhAttacks[yearwiseChhattisgarhAttacks['Type_of_Attack'] == 'Bombing/Explosion']['Year'], \n",
    "             y = yearwiseChhattisgarhAttacks[yearwiseChhattisgarhAttacks['Type_of_Attack'] == 'Bombing/Explosion']['count'], \n",
    "             label = 'Bombing/Explosion', \n",
    "             color = colors[2])\n",
    "sns.lineplot(ax = axes[0, 0], \n",
    "             x = yearwiseChhattisgarhAttacks[yearwiseChhattisgarhAttacks['Type_of_Attack'] == 'Armed Assault']['Year'], \n",
    "             y = yearwiseChhattisgarhAttacks[yearwiseChhattisgarhAttacks['Type_of_Attack'] == 'Armed Assault']['count'], \n",
    "             label = 'Armed Assault', \n",
    "             color = colors[3])\n",
    "sns.lineplot(ax = axes[0, 0], \n",
    "             x = yearwiseChhattisgarhAttacks[yearwiseChhattisgarhAttacks['Type_of_Attack'] == 'Assassination']['Year'], \n",
    "             y = yearwiseChhattisgarhAttacks[yearwiseChhattisgarhAttacks['Type_of_Attack'] == 'Assassination']['count'], \n",
    "             label = 'Assassination', \n",
    "             color = colors[0])\n",
    "sns.lineplot(ax = axes[0, 0], \n",
    "             x = yearwiseChhattisgarhAttacks[yearwiseChhattisgarhAttacks['Type_of_Attack'] == 'Hostage Taking (Kidnapping)']['Year'], \n",
    "             y = yearwiseChhattisgarhAttacks[yearwiseChhattisgarhAttacks['Type_of_Attack'] == 'Hostage Taking (Kidnapping)']['count'], \n",
    "             label = 'Hostage Taking (Kidnapping)', \n",
    "             color = colors[1])\n",
    "\n",
    "axes[0, 0].set_title('Attacks used over the years')\n",
    "\n",
    "\n",
    "\n",
    "sns.lineplot(ax = axes[0, 1], \n",
    "             x = yearwiseChhattisgarhTargets[yearwiseChhattisgarhTargets['Type_of_Target'] == 'Private Citizens & Property']['Year'], \n",
    "             y = yearwiseChhattisgarhTargets[yearwiseChhattisgarhTargets['Type_of_Target'] == 'Private Citizens & Property']['count'], \n",
    "             label = 'Private Citizens & Property', \n",
    "             color = colors[2])\n",
    "sns.lineplot(ax = axes[0, 1], \n",
    "             x = yearwiseChhattisgarhTargets[yearwiseChhattisgarhTargets['Type_of_Target'] == 'Police']['Year'], \n",
    "             y = yearwiseChhattisgarhTargets[yearwiseChhattisgarhTargets['Type_of_Target'] == 'Police']['count'], \n",
    "             label = 'Police', \n",
    "             color = colors[3])\n",
    "sns.lineplot(ax = axes[0, 1], \n",
    "             x = yearwiseChhattisgarhTargets[yearwiseChhattisgarhTargets['Type_of_Target'] == 'Government (General)']['Year'], \n",
    "             y = yearwiseChhattisgarhTargets[yearwiseChhattisgarhTargets['Type_of_Target'] == 'Government (General)']['count'], \n",
    "             label = 'Government (General)', \n",
    "             color = colors[0])\n",
    "sns.lineplot(ax = axes[0, 1], \n",
    "             x = yearwiseChhattisgarhTargets[yearwiseChhattisgarhTargets['Type_of_Target'] == 'Business']['Year'], \n",
    "             y = yearwiseChhattisgarhTargets[yearwiseChhattisgarhTargets['Type_of_Target'] == 'Business']['count'], \n",
    "             label = 'Business', \n",
    "             color = colors[1])\n",
    "\n",
    "axes[0, 1].set_title('Targets used over the years')\n",
    "\n",
    "\n",
    "sns.lineplot(ax = axes[1, 0], \n",
    "             x = yearwiseChhattisgarhWeapons[yearwiseChhattisgarhWeapons['Type_of_Weapon'] == 'Explosives']['Year'], \n",
    "             y = yearwiseChhattisgarhWeapons[yearwiseChhattisgarhWeapons['Type_of_Weapon'] == 'Explosives']['count'], \n",
    "             label = 'Explosives', \n",
    "             color = colors[2])\n",
    "sns.lineplot(ax = axes[1, 0], \n",
    "             x = yearwiseChhattisgarhWeapons[yearwiseChhattisgarhWeapons['Type_of_Weapon'] == 'Firearms']['Year'], \n",
    "             y = yearwiseChhattisgarhWeapons[yearwiseChhattisgarhWeapons['Type_of_Weapon'] == 'Firearms']['count'], \n",
    "             label = 'Firearms', \n",
    "             color = colors[3])\n",
    "sns.lineplot(ax = axes[1, 0], \n",
    "             x = yearwiseChhattisgarhWeapons[yearwiseChhattisgarhWeapons['Type_of_Weapon'] == 'Incendiary']['Year'], \n",
    "             y = yearwiseChhattisgarhWeapons[yearwiseChhattisgarhWeapons['Type_of_Weapon'] == 'Incendiary']['count'], \n",
    "             label = 'Incendiary', \n",
    "             color = colors[0])\n",
    "sns.lineplot(ax = axes[1, 0], \n",
    "             x = yearwiseChhattisgarhWeapons[yearwiseChhattisgarhWeapons['Type_of_Weapon'] == 'Melee']['Year'], \n",
    "             y = yearwiseChhattisgarhWeapons[yearwiseChhattisgarhWeapons['Type_of_Weapon'] == 'Melee']['count'], \n",
    "             label = 'Melee', \n",
    "             color = colors[1])\n",
    "\n",
    "axes[1, 0].set_title('Weapons used over the years')\n",
    "\n",
    "\n",
    "sns.lineplot(ax = axes[1, 1], \n",
    "             x = yearwiseChhattisgarhCasualties['Year'], \n",
    "             y = yearwiseChhattisgarhCasualties['Casualties'], \n",
    "             label = 'Casualties', \n",
    "             color = colors[2])\n",
    "\n",
    "axes[1, 1].set_title('Casualties over the years')\n",
    "\n",
    "\n",
    "plt.legend()\n",
    "\n",
    "plt.savefig('Images/Yearwise-Change-in-Weapons-Targets-Attacks-in-Chhattisgarh-1972-2019-lineplot.jpg', dpi=300)\n",
    "plt.show()"
   ]
  },
  {
   "cell_type": "markdown",
   "id": "79e4bcdb",
   "metadata": {},
   "source": [
    "##### <u>Observations related to Chhattisgarh</u>\n",
    "* Type of Attacks\n",
    "    - Rise in attacks after 2005.\n",
    "    - Bombing/Explosions are most commonly used.\n",
    "* Type of Targets\n",
    "    - Police were mostly targeted after 2005.\n",
    "* Type of Weapons\n",
    "    - As there is a direct relationship between attack and weapon type, it can also be seen their graphs.\n",
    "* Casualties\n",
    "    - Most number of casualties(200) were happened in year 2010."
   ]
  },
  {
   "cell_type": "code",
   "execution_count": null,
   "id": "2a9fdd87",
   "metadata": {},
   "outputs": [],
   "source": [
    "# Yearwise Change in Weapons, Targets & Attacks in 'Manipur' (1972 - 2019)\n",
    "\n",
    "fig, axes = plt.subplots(2, 2, figsize=(17, 10))\n",
    "fig.suptitle('Yearwise Change in Weapons, Targets & Attacks in \"Manipur\" (1972 - 2019)')\n",
    "\n",
    "colors = ['#ffcc99', '#99ff99', '#66b3ff', '#ff6666']\n",
    "\n",
    "sns.lineplot(ax = axes[0, 0], \n",
    "             x = yearwiseManipurAttacks[yearwiseManipurAttacks['Type_of_Attack'] == 'Bombing/Explosion']['Year'], \n",
    "             y = yearwiseManipurAttacks[yearwiseManipurAttacks['Type_of_Attack'] == 'Bombing/Explosion']['count'], \n",
    "             label = 'Bombing/Explosion', \n",
    "             color = colors[3])\n",
    "sns.lineplot(ax = axes[0, 0], \n",
    "             x = yearwiseManipurAttacks[yearwiseManipurAttacks['Type_of_Attack'] == 'Armed Assault']['Year'], \n",
    "             y = yearwiseManipurAttacks[yearwiseManipurAttacks['Type_of_Attack'] == 'Armed Assault']['count'], \n",
    "             label = 'Armed Assault', \n",
    "             color = colors[2])\n",
    "sns.lineplot(ax = axes[0, 0], \n",
    "             x = yearwiseManipurAttacks[yearwiseManipurAttacks['Type_of_Attack'] == 'Assassination']['Year'], \n",
    "             y = yearwiseManipurAttacks[yearwiseManipurAttacks['Type_of_Attack'] == 'Assassination']['count'], \n",
    "             label = 'Assassination', \n",
    "             color = colors[0])\n",
    "sns.lineplot(ax = axes[0, 0], \n",
    "             x = yearwiseManipurAttacks[yearwiseManipurAttacks['Type_of_Attack'] == 'Hostage Taking (Kidnapping)']['Year'], \n",
    "             y = yearwiseManipurAttacks[yearwiseManipurAttacks['Type_of_Attack'] == 'Hostage Taking (Kidnapping)']['count'], \n",
    "             label = 'Hostage Taking (Kidnapping)', \n",
    "             color = colors[1])\n",
    "\n",
    "axes[0, 0].set_title('Attacks used over the years')\n",
    "\n",
    "\n",
    "\n",
    "sns.lineplot(ax = axes[0, 1], \n",
    "             x = yearwiseManipurTargets[yearwiseManipurTargets['Type_of_Target'] == 'Private Citizens & Property']['Year'], \n",
    "             y = yearwiseManipurTargets[yearwiseManipurTargets['Type_of_Target'] == 'Private Citizens & Property']['count'], \n",
    "             label = 'Private Citizens & Property', \n",
    "             color = colors[2])\n",
    "sns.lineplot(ax = axes[0, 1], \n",
    "             x = yearwiseManipurTargets[yearwiseManipurTargets['Type_of_Target'] == 'Police']['Year'], \n",
    "             y = yearwiseManipurTargets[yearwiseManipurTargets['Type_of_Target'] == 'Police']['count'], \n",
    "             label = 'Police', \n",
    "             color = colors[0])\n",
    "sns.lineplot(ax = axes[0, 1], \n",
    "             x = yearwiseManipurTargets[yearwiseManipurTargets['Type_of_Target'] == 'Government (General)']['Year'], \n",
    "             y = yearwiseManipurTargets[yearwiseManipurTargets['Type_of_Target'] == 'Government (General)']['count'], \n",
    "             label = 'Government (General)', \n",
    "             color = colors[3])\n",
    "sns.lineplot(ax = axes[0, 1], \n",
    "             x = yearwiseManipurTargets[yearwiseManipurTargets['Type_of_Target'] == 'Business']['Year'], \n",
    "             y = yearwiseManipurTargets[yearwiseManipurTargets['Type_of_Target'] == 'Business']['count'], \n",
    "             label = 'Business', \n",
    "             color = colors[1])\n",
    "\n",
    "axes[0, 1].set_title('Targets used over the years')\n",
    "\n",
    "\n",
    "sns.lineplot(ax = axes[1, 0], \n",
    "             x = yearwiseManipurWeapons[yearwiseManipurWeapons['Type_of_Weapon'] == 'Explosives']['Year'], \n",
    "             y = yearwiseManipurWeapons[yearwiseManipurWeapons['Type_of_Weapon'] == 'Explosives']['count'], \n",
    "             label = 'Explosives', \n",
    "             color = colors[3])\n",
    "sns.lineplot(ax = axes[1, 0], \n",
    "             x = yearwiseManipurWeapons[yearwiseManipurWeapons['Type_of_Weapon'] == 'Firearms']['Year'], \n",
    "             y = yearwiseManipurWeapons[yearwiseManipurWeapons['Type_of_Weapon'] == 'Firearms']['count'], \n",
    "             label = 'Firearms', \n",
    "             color = colors[2])\n",
    "sns.lineplot(ax = axes[1, 0], \n",
    "             x = yearwiseManipurWeapons[yearwiseManipurWeapons['Type_of_Weapon'] == 'Incendiary']['Year'], \n",
    "             y = yearwiseManipurWeapons[yearwiseManipurWeapons['Type_of_Weapon'] == 'Incendiary']['count'], \n",
    "             label = 'Incendiary', \n",
    "             color = colors[0])\n",
    "sns.lineplot(ax = axes[1, 0], \n",
    "             x = yearwiseManipurWeapons[yearwiseManipurWeapons['Type_of_Weapon'] == 'Melee']['Year'], \n",
    "             y = yearwiseManipurWeapons[yearwiseManipurWeapons['Type_of_Weapon'] == 'Melee']['count'], \n",
    "             label = 'Melee', \n",
    "             color = colors[1])\n",
    "\n",
    "axes[1, 0].set_title('Weapons used over the years')\n",
    "\n",
    "\n",
    "sns.lineplot(ax = axes[1, 1], \n",
    "             x = yearwiseManipurCasualties['Year'], \n",
    "             y = yearwiseManipurCasualties['Casualties'], \n",
    "             label = 'Casualties', \n",
    "             color = colors[2])\n",
    "\n",
    "axes[1, 1].set_title('Casualties over the years')\n",
    "\n",
    "\n",
    "plt.legend()\n",
    "\n",
    "plt.savefig('Images/Yearwise-Change-in-Weapons-Targets-Attacks-in-Manipur-1972-2019-lineplot.jpg', dpi=300)\n",
    "plt.show()"
   ]
  },
  {
   "cell_type": "markdown",
   "id": "406dc0e0",
   "metadata": {},
   "source": [
    "##### <u>Observations related to Manipur</u>\n",
    "* Type of Attacks\n",
    "    - Bombing/Explosion is most common type of attack after 2005 in Manipur.\n",
    "    - Steep rise in use of Bombing/Explosion can be seen after 2010.\n",
    "* Type of Targets\n",
    "    - Government (General) are most common targets in Manipur\n",
    "    - In 1995 & 2000 Private Property & Citizens were mostly targeted.\n",
    "* Type of Weapons\n",
    "    - Use of Firearms and Explosives is increased after 2005.\n",
    "* Casualties\n",
    "    - Most number of Casualties were happened after 1995 & Before 2000.\n",
    "    - Contradictory realtionship can be seen between casualties & attacks"
   ]
  },
  {
   "cell_type": "code",
   "execution_count": null,
   "id": "1dc082b0",
   "metadata": {},
   "outputs": [],
   "source": [
    "# Yearwise Change in Weapons, Targets & Attacks in 'Assam' (1972 - 2019)\n",
    "\n",
    "fig, axes = plt.subplots(2, 2, figsize=(17, 10))\n",
    "fig.suptitle('Yearwise Change in Weapons, Targets & Attacks in \"Assam\" (1972 - 2019)')\n",
    "\n",
    "colors = ['#ffcc99', '#99ff99', '#66b3ff', '#ff6666']\n",
    "\n",
    "sns.lineplot(ax = axes[0, 0], \n",
    "             x = yearwiseAssamAttacks[yearwiseAssamAttacks['Type_of_Attack'] == 'Bombing/Explosion']['Year'], \n",
    "             y = yearwiseAssamAttacks[yearwiseAssamAttacks['Type_of_Attack'] == 'Bombing/Explosion']['count'], \n",
    "             label = 'Bombing/Explosion', \n",
    "             color = colors[3])\n",
    "sns.lineplot(ax = axes[0, 0], \n",
    "             x = yearwiseAssamAttacks[yearwiseAssamAttacks['Type_of_Attack'] == 'Armed Assault']['Year'], \n",
    "             y = yearwiseAssamAttacks[yearwiseAssamAttacks['Type_of_Attack'] == 'Armed Assault']['count'], \n",
    "             label = 'Armed Assault', \n",
    "             color = colors[2])\n",
    "sns.lineplot(ax = axes[0, 0], \n",
    "             x = yearwiseAssamAttacks[yearwiseAssamAttacks['Type_of_Attack'] == 'Assassination']['Year'], \n",
    "             y = yearwiseAssamAttacks[yearwiseAssamAttacks['Type_of_Attack'] == 'Assassination']['count'], \n",
    "             label = 'Assassination', \n",
    "             color = colors[0])\n",
    "sns.lineplot(ax = axes[0, 0], \n",
    "             x = yearwiseAssamAttacks[yearwiseAssamAttacks['Type_of_Attack'] == 'Hostage Taking (Kidnapping)']['Year'], \n",
    "             y = yearwiseAssamAttacks[yearwiseAssamAttacks['Type_of_Attack'] == 'Hostage Taking (Kidnapping)']['count'], \n",
    "             label = 'Hostage Taking (Kidnapping)', \n",
    "             color = colors[1])\n",
    "\n",
    "axes[0, 0].set_title('Attacks used over the years')\n",
    "\n",
    "\n",
    "\n",
    "sns.lineplot(ax = axes[0, 1], \n",
    "             x = yearwiseAssamTargets[yearwiseAssamTargets['Type_of_Target'] == 'Private Citizens & Property']['Year'], \n",
    "             y = yearwiseAssamTargets[yearwiseAssamTargets['Type_of_Target'] == 'Private Citizens & Property']['count'], \n",
    "             label = 'Private Citizens & Property', \n",
    "             color = colors[3])\n",
    "sns.lineplot(ax = axes[0, 1], \n",
    "             x = yearwiseAssamTargets[yearwiseAssamTargets['Type_of_Target'] == 'Police']['Year'], \n",
    "             y = yearwiseAssamTargets[yearwiseAssamTargets['Type_of_Target'] == 'Police']['count'], \n",
    "             label = 'Police', \n",
    "             color = colors[0])\n",
    "sns.lineplot(ax = axes[0, 1], \n",
    "             x = yearwiseAssamTargets[yearwiseAssamTargets['Type_of_Target'] == 'Government (General)']['Year'], \n",
    "             y = yearwiseAssamTargets[yearwiseAssamTargets['Type_of_Target'] == 'Government (General)']['count'], \n",
    "             label = 'Government (General)', \n",
    "             color = colors[1])\n",
    "sns.lineplot(ax = axes[0, 1], \n",
    "             x = yearwiseAssamTargets[yearwiseAssamTargets['Type_of_Target'] == 'Business']['Year'], \n",
    "             y = yearwiseAssamTargets[yearwiseAssamTargets['Type_of_Target'] == 'Business']['count'], \n",
    "             label = 'Business', \n",
    "             color = colors[2])\n",
    "\n",
    "axes[0, 1].set_title('Targets used over the years')\n",
    "\n",
    "\n",
    "sns.lineplot(ax = axes[1, 0], \n",
    "             x = yearwiseAssamWeapons[yearwiseAssamWeapons['Type_of_Weapon'] == 'Explosives']['Year'], \n",
    "             y = yearwiseAssamWeapons[yearwiseAssamWeapons['Type_of_Weapon'] == 'Explosives']['count'], \n",
    "             label = 'Explosives', \n",
    "             color = colors[3])\n",
    "sns.lineplot(ax = axes[1, 0], \n",
    "             x = yearwiseAssamWeapons[yearwiseAssamWeapons['Type_of_Weapon'] == 'Firearms']['Year'], \n",
    "             y = yearwiseAssamWeapons[yearwiseAssamWeapons['Type_of_Weapon'] == 'Firearms']['count'], \n",
    "             label = 'Firearms', \n",
    "             color = colors[2])\n",
    "sns.lineplot(ax = axes[1, 0], \n",
    "             x = yearwiseAssamWeapons[yearwiseAssamWeapons['Type_of_Weapon'] == 'Incendiary']['Year'], \n",
    "             y = yearwiseAssamWeapons[yearwiseAssamWeapons['Type_of_Weapon'] == 'Incendiary']['count'], \n",
    "             label = 'Incendiary', \n",
    "             color = colors[0])\n",
    "sns.lineplot(ax = axes[1, 0], \n",
    "             x = yearwiseAssamWeapons[yearwiseAssamWeapons['Type_of_Weapon'] == 'Melee']['Year'], \n",
    "             y = yearwiseAssamWeapons[yearwiseAssamWeapons['Type_of_Weapon'] == 'Melee']['count'], \n",
    "             label = 'Melee', \n",
    "             color = colors[1])\n",
    "\n",
    "axes[1, 0].set_title('Weapons used over the years')\n",
    "\n",
    "\n",
    "sns.lineplot(ax = axes[1, 1], \n",
    "             x = yearwiseAssamCasualties['Year'], \n",
    "             y = yearwiseAssamCasualties['Casualties'], \n",
    "             label = 'Casualties', \n",
    "             color = colors[2])\n",
    "\n",
    "axes[1, 1].set_title('Casualties over the years')\n",
    "\n",
    "\n",
    "plt.legend()\n",
    "\n",
    "plt.savefig('Images/Yearwise-Change-in-Weapons-Targets-Attacks-in-Assam-1972-2019-lineplot.jpg', dpi=300)\n",
    "plt.show()"
   ]
  },
  {
   "cell_type": "markdown",
   "id": "3f5348b8",
   "metadata": {},
   "source": [
    "##### <u>Observations related to Assam</u>\n",
    "* Type of Attacks\n",
    "    - Major rise in Armes Assault between 2005 & 2010.\n",
    "    - After 2000 significant increase in Bombing/Explosion.\n",
    "* Type of Targets\n",
    "    - Citizens & Private Property are major targets in Assam.\n",
    "    - Police were the major targets between 1985 & 1990.\n",
    "    - Significant increase in attacks on Business after 2005.\n",
    "* Type of Weapons\n",
    "    - Major increase in use of Explosions after 2000.\n",
    "    - Increase in use of Firearms after 2005.\n",
    "* Casualties\n",
    "    - 4 major years where casualties exceeded over 100 per year."
   ]
  },
  {
   "cell_type": "markdown",
   "id": "a2f25666",
   "metadata": {},
   "source": [
    "# <b>=============================================</b>\n",
    "### <u>Terror Attacks in India from 1972 to 2019</u>"
   ]
  },
  {
   "cell_type": "code",
   "execution_count": null,
   "id": "f6abc105",
   "metadata": {},
   "outputs": [],
   "source": [
    "start_year = min(finalData['Year'])\n",
    "end_year = max(finalData['Year'])\n",
    "\n",
    "yearData = pd.DataFrame(columns=['Year', 'State_UT', 'count'])\n",
    "\n",
    "while start_year <= end_year:    \n",
    "    if start_year in finalData['Year'].unique():                                \n",
    "        yearData = yearData.append(finalData[finalData['Year'] == start_year][['Year', 'State_UT']].value_counts().reset_index(name='count'))        \n",
    "    start_year += 1\n",
    "    \n",
    "print(sum(yearData['count']))"
   ]
  },
  {
   "cell_type": "code",
   "execution_count": null,
   "id": "8d61c011",
   "metadata": {},
   "outputs": [],
   "source": [
    "# Maximum Terror Attacks in a Year\n",
    "\n",
    "yearData['count'].max()"
   ]
  },
  {
   "cell_type": "code",
   "execution_count": null,
   "id": "af7ad1ea",
   "metadata": {},
   "outputs": [],
   "source": [
    "with open('Dataset/india_states.geojson') as f:\n",
    "    India_States_UT = json.load(f)\n",
    "    \n",
    "# India_States_UT    "
   ]
  },
  {
   "cell_type": "code",
   "execution_count": null,
   "id": "72bebf3d",
   "metadata": {},
   "outputs": [],
   "source": [
    "fig = px.choropleth(yearData,                            # Input Dataframe\n",
    "#                     geojson=\"https://gist.githubusercontent.com/jbrobst/56c13bbbf9d97d187fea01ca62ea5112/raw/e388c4cae20aa53cb5090210a42ebb9b765c0a36/india_states.geojson\",\n",
    "                    geojson=India_States_UT,\n",
    "                    featureidkey=\"properties.ST_NM\",\n",
    "                    locations=\"State_UT\",\n",
    "                    color=list(yearData['count']),\n",
    "                    color_continuous_scale=\"Reds\",\n",
    "                    \n",
    "                    hover_name=\"State_UT\",\n",
    "                    animation_frame=\"Year\",\n",
    "                    range_color=(0,410), \n",
    "                    labels={'color':'Number of Attacks'},\n",
    "                    scope=\"asia\"\n",
    "                    )  \n",
    "\n",
    "fig.update_geos(fitbounds=\"geojson\", visible=True)\n",
    "fig.update_layout(\n",
    "    title_text = 'Terror Attacks in India from 1972 to 2019<br>(Click on states for details)',\n",
    "    geo_scope='asia',\n",
    ")\n",
    "\n",
    "fig.show()          \n",
    "fig.write_html(\"yearWiseTerrorAttacks.html\") "
   ]
  },
  {
   "cell_type": "markdown",
   "id": "47a604a9",
   "metadata": {},
   "source": [
    "### References:\n",
    "* Global Terrorism Database [  https://www.start.umd.edu/gtd/  ]\n",
    "* Global Terrorism Database Codebook [  https://www.start.umd.edu/gtd/downloads/Codebook.pdf  ]\n",
    "* Decoding The Global Terrorism Index [  http://niti.gov.in/decoding-global-terrorism-index  ]\n",
    "* Constitution of India [  https://legislative.gov.in/constitution-of-india  ]\n",
    "* Matplotlib [  https://matplotlib.org/  ]\n",
    "* Seaborn [  https://seaborn.pydata.org/  ]\n",
    "* Create COVID-19 Map Animation with Python in 5 Minutes [  https://towardsdatascience.com/covid-19-map-animation-with-python-in-5-minutes-2d6246c32e54  ]\n",
    "* Stackoverflow [  https://stackoverflow.com/  ]"
   ]
  },
  {
   "cell_type": "code",
   "execution_count": null,
   "id": "4710f2bb",
   "metadata": {},
   "outputs": [],
   "source": []
  }
 ],
 "metadata": {
  "kernelspec": {
   "display_name": "Python 3",
   "language": "python",
   "name": "python3"
  },
  "language_info": {
   "codemirror_mode": {
    "name": "ipython",
    "version": 3
   },
   "file_extension": ".py",
   "mimetype": "text/x-python",
   "name": "python",
   "nbconvert_exporter": "python",
   "pygments_lexer": "ipython3",
   "version": "3.6.9"
  }
 },
 "nbformat": 4,
 "nbformat_minor": 5
}
