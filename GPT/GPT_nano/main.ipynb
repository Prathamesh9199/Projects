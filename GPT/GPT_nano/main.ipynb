{
 "cells": [
  {
   "cell_type": "code",
   "execution_count": 1,
   "id": "d681d3c8",
   "metadata": {},
   "outputs": [],
   "source": [
    "import sys\n",
    "import os\n",
    "import pickle\n",
    "import torch\n",
    "\n",
    "# Manually specify the project root if __file__ is not available\n",
    "project_root = os.path.abspath(\"..\")  # Adjust this path if needed\n",
    "sys.path.append(project_root)\n",
    "\n",
    "from GPT_Tokenizer.BPE_Tokenizer import BPETokenizer"
   ]
  },
  {
   "cell_type": "code",
   "execution_count": 2,
   "id": "8bed9012",
   "metadata": {},
   "outputs": [],
   "source": [
    "# read data to inspect\n",
    "\n",
    "file_path = r'data\\\\cleaned_combined_books.txt'\n",
    "with open(file_path, 'r', encoding='utf-8') as f:\n",
    "    text = f.read()"
   ]
  },
  {
   "cell_type": "code",
   "execution_count": 3,
   "id": "1408e45c",
   "metadata": {},
   "outputs": [
    {
     "name": "stdout",
     "output_type": "stream",
     "text": [
      "length of dataset in chars: 2661874\n"
     ]
    }
   ],
   "source": [
    "print(f\"length of dataset in chars: {len(text)}\")"
   ]
  },
  {
   "cell_type": "code",
   "execution_count": 4,
   "id": "a927dbd2",
   "metadata": {},
   "outputs": [
    {
     "name": "stdout",
     "output_type": "stream",
     "text": [
      "vocab size: 72\n",
      "unique chars: \n",
      " !\"',.0123456789:;?ABCDEFGHIJKLMNOPQRSTUVWXYZabcdefghijklmnopqrstuvwxyz\n"
     ]
    }
   ],
   "source": [
    "# here are all the unique characters occures in the text\n",
    "\n",
    "unique_chars = sorted(list(set(text)))\n",
    "\n",
    "print(f'vocab size: {len(unique_chars)}')\n",
    "print(f\"unique chars: {''.join(unique_chars)}\")"
   ]
  },
  {
   "cell_type": "code",
   "execution_count": 5,
   "id": "e8a0b4f7",
   "metadata": {},
   "outputs": [],
   "source": [
    "# Process to train the tokenizer to get the mappings\n",
    "\n",
    "# tokenizer = BPETokenizer(text, iterations=50)\n",
    "\n",
    "# tokens, idx_to_char, char_to_idx = tokenizer.bpe()\n",
    "\n",
    "# # Store the mappings for future use\n",
    "# with open(\"tokenizer_mappings.pkl\", \"wb\") as f:\n",
    "#     pickle.dump({\n",
    "#         \"char_to_idx\": char_to_idx,\n",
    "#         \"idx_to_char\": idx_to_char\n",
    "#     }, f)"
   ]
  },
  {
   "cell_type": "code",
   "execution_count": 20,
   "id": "9b6b5ab0",
   "metadata": {},
   "outputs": [
    {
     "name": "stdout",
     "output_type": "stream",
     "text": [
      "[23, 46, 46, 19, 25, 23, 24, 61, 24]\n",
      "hii there\n"
     ]
    }
   ],
   "source": [
    "# reutilize the mappings from tokenizer\n",
    "\n",
    "with open(\"tokenizer_mappings.pkl\", \"rb\") as f:\n",
    "    mappings = pickle.load(f)\n",
    "\n",
    "char_to_idx = mappings[\"char_to_idx\"]\n",
    "idx_to_char = mappings[\"idx_to_char\"]\n",
    "vocab_size = len(char_to_idx)\n",
    "\n",
    "tokenizer = BPETokenizer(text, iterations=50)\n",
    "\n",
    "print(tokenizer.encode(\"hii there\", char_to_idx))\n",
    "print(tokenizer.decode(tokenizer.encode(\"hii there\", char_to_idx), idx_to_char))"
   ]
  },
  {
   "cell_type": "code",
   "execution_count": 7,
   "id": "4b459806",
   "metadata": {},
   "outputs": [
    {
     "name": "stdout",
     "output_type": "stream",
     "text": [
      "torch.Size([2661874]) torch.int64\n"
     ]
    }
   ],
   "source": [
    "# let's now encode entire dataset and store them in torch tensor\n",
    "\n",
    "data = torch.tensor(tokenizer.encode(text), dtype=torch.long)\n",
    "print(data.shape, data.dtype)"
   ]
  },
  {
   "cell_type": "code",
   "execution_count": 13,
   "id": "11aa4b3f",
   "metadata": {},
   "outputs": [],
   "source": [
    "# split data in train and validation\n",
    "\n",
    "n = int(0.9 * len(data))\n",
    "train_data = data[:n]\n",
    "val_data = data[n:]"
   ]
  },
  {
   "cell_type": "code",
   "execution_count": 9,
   "id": "0861b47d",
   "metadata": {},
   "outputs": [
    {
     "data": {
      "text/plain": [
       "tensor([67, 33, 52, 28, 45, 40, 52, 33, 20])"
      ]
     },
     "execution_count": 9,
     "metadata": {},
     "output_type": "execute_result"
    }
   ],
   "source": [
    "block_size = 8\n",
    "\n",
    "train_data[:block_size+1]"
   ]
  },
  {
   "cell_type": "code",
   "execution_count": 12,
   "id": "eb1f1802",
   "metadata": {},
   "outputs": [
    {
     "name": "stdout",
     "output_type": "stream",
     "text": [
      "input: tensor([67]) | target: 33\n",
      "input: tensor([67, 33]) | target: 52\n",
      "input: tensor([67, 33, 52]) | target: 28\n",
      "input: tensor([67, 33, 52, 28]) | target: 45\n",
      "input: tensor([67, 33, 52, 28, 45]) | target: 40\n",
      "input: tensor([67, 33, 52, 28, 45, 40]) | target: 52\n",
      "input: tensor([67, 33, 52, 28, 45, 40, 52]) | target: 33\n",
      "input: tensor([67, 33, 52, 28, 45, 40, 52, 33]) | target: 20\n"
     ]
    }
   ],
   "source": [
    "x = train_data[:block_size]\n",
    "y = train_data[1:block_size + 1]\n",
    "for t in range(block_size):\n",
    "    context = x[:t+1]\n",
    "    target = y[t]\n",
    "    print(f\"input: {context} | target: {target}\")"
   ]
  },
  {
   "cell_type": "code",
   "execution_count": 19,
   "id": "1a3070d3",
   "metadata": {},
   "outputs": [
    {
     "name": "stdout",
     "output_type": "stream",
     "text": [
      "inputs\n",
      "torch.Size([4, 8])\n",
      "tensor([[ 7, 34,  2, 21, 52, 33, 34,  2],\n",
      "        [54, 35, 35, 24, 30, 34,  2, 54],\n",
      "        [54, 35, 40,  2, 55, 71, 52, 71],\n",
      "        [52,  9, 40, 52, 54, 33, 33, 34]])\n",
      "targets\n",
      "torch.Size([4, 8])\n",
      "tensor([[34,  2, 21, 52, 33, 34,  2, 21],\n",
      "        [35, 35, 24, 30, 34,  2, 54, 28],\n",
      "        [35, 40,  2, 55, 71, 52, 71, 56],\n",
      "        [ 9, 40, 52, 54, 33, 33, 34, 59]])\n",
      "---------------\n",
      "context: [7] | target: 34\n",
      "context: [7, 34] | target: 2\n",
      "context: [7, 34, 2] | target: 21\n",
      "context: [7, 34, 2, 21] | target: 52\n",
      "context: [7, 34, 2, 21, 52] | target: 33\n",
      "context: [7, 34, 2, 21, 52, 33] | target: 34\n",
      "context: [7, 34, 2, 21, 52, 33, 34] | target: 2\n",
      "context: [7, 34, 2, 21, 52, 33, 34, 2] | target: 21\n",
      "context: [54] | target: 35\n",
      "context: [54, 35] | target: 35\n",
      "context: [54, 35, 35] | target: 24\n",
      "context: [54, 35, 35, 24] | target: 30\n",
      "context: [54, 35, 35, 24, 30] | target: 34\n",
      "context: [54, 35, 35, 24, 30, 34] | target: 2\n",
      "context: [54, 35, 35, 24, 30, 34, 2] | target: 54\n",
      "context: [54, 35, 35, 24, 30, 34, 2, 54] | target: 28\n",
      "context: [54] | target: 35\n",
      "context: [54, 35] | target: 40\n",
      "context: [54, 35, 40] | target: 2\n",
      "context: [54, 35, 40, 2] | target: 55\n",
      "context: [54, 35, 40, 2, 55] | target: 71\n",
      "context: [54, 35, 40, 2, 55, 71] | target: 52\n",
      "context: [54, 35, 40, 2, 55, 71, 52] | target: 71\n",
      "context: [54, 35, 40, 2, 55, 71, 52, 71] | target: 56\n",
      "context: [52] | target: 9\n",
      "context: [52, 9] | target: 40\n",
      "context: [52, 9, 40] | target: 52\n",
      "context: [52, 9, 40, 52] | target: 54\n",
      "context: [52, 9, 40, 52, 54] | target: 33\n",
      "context: [52, 9, 40, 52, 54, 33] | target: 33\n",
      "context: [52, 9, 40, 52, 54, 33, 33] | target: 34\n",
      "context: [52, 9, 40, 52, 54, 33, 33, 34] | target: 59\n"
     ]
    }
   ],
   "source": [
    "torch.manual_seed(1337)\n",
    "batch_size = 4 # independent sequence processing in parallel\n",
    "block_size = 8 # max context length of predictions\n",
    "\n",
    "def get_batch(split):\n",
    "    # generate batch of data from inputs x and target y\n",
    "    data = train_data if split == 'train' else val_data\n",
    "    ix = torch.randint(len(data) - block_size, (batch_size, ))\n",
    "    x = torch.stack([data[i:i+block_size] for i in ix])\n",
    "    y = torch.stack([data[i+1:i+block_size+1] for i in ix])\n",
    "\n",
    "    return x, y\n",
    "\n",
    "xb, yb = get_batch('train')\n",
    "\n",
    "print('inputs')\n",
    "print(xb.shape)\n",
    "print(xb)\n",
    "print('targets')\n",
    "print(yb.shape)\n",
    "print(yb)\n",
    "\n",
    "print('---------------')\n",
    "\n",
    "for b in range(batch_size):             # batch dimension\n",
    "    for t in range(block_size):         # time dimension\n",
    "        context = xb[b, :t+1]\n",
    "        target = yb[b, t]\n",
    "        print(f\"context: {context.tolist()} | target: {target}\")"
   ]
  },
  {
   "cell_type": "markdown",
   "id": "f38fb743",
   "metadata": {},
   "source": [
    "### Bi-gram language model"
   ]
  },
  {
   "cell_type": "code",
   "execution_count": 24,
   "id": "336841d4",
   "metadata": {},
   "outputs": [
    {
     "name": "stdout",
     "output_type": "stream",
     "text": [
      "torch.Size([32, 122]) tensor(5.3654, grad_fn=<NllLossBackward0>)\n",
      "wdFou.S t w, enrel1aZkCres25y st1der Co ,d ;t eling'.om to ?BNof L9waTe isKstJ.,d BNMld d uN and OQy of ffkTKkomYel6W?CaanatouedADkha\"sBws of AtC ais\n"
     ]
    }
   ],
   "source": [
    "import torch\n",
    "import torch.nn as nn\n",
    "from torch.nn import functional as F\n",
    "torch.manual_seed(1337)\n",
    "\n",
    "class BigramLanguageModel(nn.Module):\n",
    "\n",
    "    def __init__(self, vocab_size):\n",
    "        super().__init__()\n",
    "        # each token directly reads off the logits for the next token from a lookup table\n",
    "        self.token_embedding_table = nn.Embedding(vocab_size, vocab_size)\n",
    "\n",
    "    def forward(self, idx, targets=None):\n",
    "\n",
    "        # idx and targets are both (B, T) tensor of integers\n",
    "        logits = self.token_embedding_table(idx) # (B, T, C) | Batch * Context Window * Vocab Size\n",
    "\n",
    "        if targets is None:\n",
    "            loss = None\n",
    "        else:\n",
    "            B, T, C = logits.shape\n",
    "            logits = logits.view(B*T, C)\n",
    "            targets = targets.view(B*T)\n",
    "            loss = F.cross_entropy(logits, targets)\n",
    "\n",
    "        return logits, loss\n",
    "    \n",
    "    def generate(self, idx, max_new_tokens):\n",
    "        # idx is a (B, T) array of indices in the current context\n",
    "        for _ in range(max_new_tokens):\n",
    "            # get the prediction\n",
    "            logits, loss = self(idx)\n",
    "\n",
    "            # focus only on the last time step\n",
    "            logits = logits[:, -1, :]\n",
    "\n",
    "            # apply softmax to get the probabilities\n",
    "            probs = F.softmax(logits, dim=1)\n",
    "\n",
    "            # sample from distribution\n",
    "            idx_next = torch.multinomial(probs, num_samples=1) # (B, 1)\n",
    "\n",
    "            # append sampled index to the running sequence\n",
    "            idx = torch.cat((idx, idx_next), dim=1) # (B, T+1)\n",
    "\n",
    "        return idx\n",
    "    \n",
    "m = BigramLanguageModel(vocab_size)\n",
    "logits, loss = m(xb, yb)\n",
    "print(logits.shape, loss)\n",
    "\n",
    "idx = torch.zeros((1, 1), dtype=torch.long)\n",
    "print(tokenizer.decode(m.generate(idx, max_new_tokens=100)[0].tolist(), idx_to_char))"
   ]
  },
  {
   "cell_type": "markdown",
   "id": "75abe01c",
   "metadata": {},
   "source": [
    "[Click here](https://www.youtube.com/watch?v=kCc8FmEb1nY&t=2791s)"
   ]
  }
 ],
 "metadata": {
  "kernelspec": {
   "display_name": ".venv",
   "language": "python",
   "name": "python3"
  },
  "language_info": {
   "codemirror_mode": {
    "name": "ipython",
    "version": 3
   },
   "file_extension": ".py",
   "mimetype": "text/x-python",
   "name": "python",
   "nbconvert_exporter": "python",
   "pygments_lexer": "ipython3",
   "version": "3.11.0"
  }
 },
 "nbformat": 4,
 "nbformat_minor": 5
}
