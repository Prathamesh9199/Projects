{
 "cells": [
  {
   "cell_type": "markdown",
   "id": "37889c26",
   "metadata": {},
   "source": [
    "# Byte Pair Encoding Algorithm\n",
    "\n",
    "[https://en.wikipedia.org/wiki/Byte-pair_encoding]\n",
    "\n",
    "Example <br>\n",
    "Suppose the data to be encoded is: aaabdaaabac <br><br>\n",
    "\n",
    "The byte pair \"aa\" occurs most often, so it will be replaced by a byte that is not used in the data, such as \"Z\". Now there is the following data and replacement table:<br><br>\n",
    "\n",
    "ZabdZabac<br>\n",
    "Z=aa<br>\n",
    "Then the process is repeated with byte pair \"ab\", replacing it with \"Y\":<br><br>\n",
    "\n",
    "ZYdZYac<br>\n",
    "Y=ab<br>\n",
    "Z=aa<br>\n",
    "The only literal byte pair left occurs only once, and the encoding might stop here. Alternatively, the process could continue with recursive byte-pair encoding, replacing \"ZY\" with \"X\":<br><br>\n",
    "\n",
    "XdXac<br>\n",
    "X=ZY<br>\n",
    "Y=ab<br>\n",
    "Z=aa<br>"
   ]
  },
  {
   "cell_type": "code",
   "execution_count": null,
   "id": "9bfda5ad",
   "metadata": {},
   "outputs": [
    {
     "name": "stdout",
     "output_type": "stream",
     "text": [
      "original string: aaabdaaabac\n",
      "Iteration 1\n",
      "Current string: aaabdaaabac\n",
      "Pair counts: {('a', 'a'): 4, ('a', 'b'): 2, ('b', 'd'): 1, ('d', 'a'): 1, ('b', 'a'): 1, ('a', 'c'): 1}\n",
      "Replacing ('a', 'a') with 1\n",
      "Replacing ('a', 'b') with 2\n",
      "After BPE: 12d12ac\n",
      "--------------------------------------------------\n",
      "Iteration 2\n",
      "Current string: 12d12ac\n",
      "Pair counts: {('1', '2'): 2, ('2', 'd'): 1, ('d', '1'): 1, ('2', 'a'): 1, ('a', 'c'): 1}\n",
      "Replacing ('1', '2') with 3\n",
      "After BPE: 3d3ac\n",
      "--------------------------------------------------\n"
     ]
    }
   ],
   "source": [
    "string = 'aaabdaaabac'\n",
    "print(f\"original string: {string}\")\n",
    "c = 1\n",
    "\n",
    "def get_stats(ids):\n",
    "    counts = {}\n",
    "        \n",
    "    for pair in zip(ids, ids[1:]):\n",
    "        counts[pair] = counts.get(pair, 0) + 1\n",
    "\n",
    "    return counts\n",
    "\n",
    "def bpe(string):\n",
    "    global c\n",
    "    \n",
    "    # Create a dictionary of chars\n",
    "    counts = {}\n",
    "    ids = [char for char in string]\n",
    "    counts = get_stats(ids)\n",
    "\n",
    "    print(\"Pair counts:\", counts)\n",
    "\n",
    "    # Sort the dictionary by occurrences\n",
    "    sorted_pairs = sorted(counts.items(), key=lambda x: x[1], reverse=True)\n",
    "    \n",
    "    # Create a new token for all the pairs which have more than 1 occurrence    \n",
    "    for pair, count in sorted_pairs:\n",
    "        if count > 1:\n",
    "            new_token = str(c)\n",
    "            c += 1\n",
    "            string = string.replace(''.join(pair), new_token)\n",
    "            print(f\"Replacing {pair} with {new_token}\")\n",
    "\n",
    "    return string    \n",
    "\n",
    "for i in range(2):\n",
    "    print(f\"Iteration {i + 1}\")\n",
    "    print(f\"Current string: {string}\")\n",
    "    string = bpe(string)\n",
    "    print(f\"After BPE: {string}\")\n",
    "    print(\"-\" * 50)"
   ]
  },
  {
   "cell_type": "markdown",
   "id": "690ac074",
   "metadata": {},
   "source": [
    "**Question:** What is the sweet spot, how many iterations of bpe should we do?\n",
    "\n",
    "**Answer**: It's an hyperparameter, cause more vocabulory size as you mint new tokens, lesser tokens to capture more information. But at the same time, more vocab size means more computational cost, more memory, more complexity. So it's a tradeoff."
   ]
  },
  {
   "cell_type": "markdown",
   "id": "1f40c296",
   "metadata": {},
   "source": [
    "# 57:30"
   ]
  },
  {
   "cell_type": "code",
   "execution_count": null,
   "id": "9c8acc5b",
   "metadata": {},
   "outputs": [],
   "source": []
  }
 ],
 "metadata": {
  "kernelspec": {
   "display_name": "Python 3",
   "language": "python",
   "name": "python3"
  },
  "language_info": {
   "codemirror_mode": {
    "name": "ipython",
    "version": 3
   },
   "file_extension": ".py",
   "mimetype": "text/x-python",
   "name": "python",
   "nbconvert_exporter": "python",
   "pygments_lexer": "ipython3",
   "version": "3.13.5"
  }
 },
 "nbformat": 4,
 "nbformat_minor": 5
}
